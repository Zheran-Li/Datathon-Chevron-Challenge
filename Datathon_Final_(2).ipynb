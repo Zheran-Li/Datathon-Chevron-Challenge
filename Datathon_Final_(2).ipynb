{
  "cells": [
    {
      "cell_type": "markdown",
      "metadata": {
        "id": "-EYBgnQXrl1P"
      },
      "source": [
        "# Preparation"
      ]
    },
    {
      "cell_type": "code",
      "source": [
        "!git clone https://github.com/Zheran-Li/Datathon-Chevron-Challenge"
      ],
      "metadata": {
        "id": "_Mpkg-b9r4mZ"
      },
      "execution_count": null,
      "outputs": []
    },
    {
      "cell_type": "code",
      "execution_count": null,
      "metadata": {
        "id": "9IgqiOSRrl1X"
      },
      "outputs": [],
      "source": [
        "data = pd.read_csv(\"Datathon-Chevron-Challenge/Investment_Data_Train.xlsx - train_data.csv\") #raw data\n",
        "data_clean = data.dropna()\n",
        "data_clean = data_clean.drop(columns='StateCode')\n",
        "data_clean=data_clean.iloc[:,1:]"
      ]
    },
    {
      "cell_type": "code",
      "execution_count": null,
      "metadata": {
        "id": "eHy5zuh2rl1a",
        "outputId": "0e7a5c8d-3a90-4458-f419-d3dd9f0c286f"
      },
      "outputs": [
        {
          "data": {
            "text/html": [
              "<div>\n",
              "<style scoped>\n",
              "    .dataframe tbody tr th:only-of-type {\n",
              "        vertical-align: middle;\n",
              "    }\n",
              "\n",
              "    .dataframe tbody tr th {\n",
              "        vertical-align: top;\n",
              "    }\n",
              "\n",
              "    .dataframe thead th {\n",
              "        text-align: right;\n",
              "    }\n",
              "</style>\n",
              "<table border=\"1\" class=\"dataframe\">\n",
              "  <thead>\n",
              "    <tr style=\"text-align: right;\">\n",
              "      <th></th>\n",
              "      <th>MSN</th>\n",
              "      <th>Year</th>\n",
              "      <th>Amount</th>\n",
              "      <th>State</th>\n",
              "      <th>CO2 Emissions (Mmt)</th>\n",
              "      <th>TotalNumberofInvestments</th>\n",
              "      <th>TotalAmountofAssistance</th>\n",
              "    </tr>\n",
              "  </thead>\n",
              "  <tbody>\n",
              "    <tr>\n",
              "      <th>0</th>\n",
              "      <td>BDFDB</td>\n",
              "      <td>2015</td>\n",
              "      <td>21.0</td>\n",
              "      <td>Alaska</td>\n",
              "      <td>35.027804</td>\n",
              "      <td>16.0</td>\n",
              "      <td>3345612.0</td>\n",
              "    </tr>\n",
              "    <tr>\n",
              "      <th>1</th>\n",
              "      <td>BDPRP</td>\n",
              "      <td>2015</td>\n",
              "      <td>4.0</td>\n",
              "      <td>Alaska</td>\n",
              "      <td>35.027804</td>\n",
              "      <td>16.0</td>\n",
              "      <td>3345612.0</td>\n",
              "    </tr>\n",
              "    <tr>\n",
              "      <th>2</th>\n",
              "      <td>BFFDB</td>\n",
              "      <td>2015</td>\n",
              "      <td>21.0</td>\n",
              "      <td>Alaska</td>\n",
              "      <td>35.027804</td>\n",
              "      <td>16.0</td>\n",
              "      <td>3345612.0</td>\n",
              "    </tr>\n",
              "    <tr>\n",
              "      <th>3</th>\n",
              "      <td>BFPRP</td>\n",
              "      <td>2015</td>\n",
              "      <td>4.0</td>\n",
              "      <td>Alaska</td>\n",
              "      <td>35.027804</td>\n",
              "      <td>16.0</td>\n",
              "      <td>3345612.0</td>\n",
              "    </tr>\n",
              "    <tr>\n",
              "      <th>4</th>\n",
              "      <td>CLPRB</td>\n",
              "      <td>2015</td>\n",
              "      <td>17747.0</td>\n",
              "      <td>Alaska</td>\n",
              "      <td>35.027804</td>\n",
              "      <td>16.0</td>\n",
              "      <td>3345612.0</td>\n",
              "    </tr>\n",
              "  </tbody>\n",
              "</table>\n",
              "</div>"
            ],
            "text/plain": [
              "     MSN  Year   Amount   State  CO2 Emissions (Mmt)  \\\n",
              "0  BDFDB  2015     21.0  Alaska            35.027804   \n",
              "1  BDPRP  2015      4.0  Alaska            35.027804   \n",
              "2  BFFDB  2015     21.0  Alaska            35.027804   \n",
              "3  BFPRP  2015      4.0  Alaska            35.027804   \n",
              "4  CLPRB  2015  17747.0  Alaska            35.027804   \n",
              "\n",
              "   TotalNumberofInvestments  TotalAmountofAssistance  \n",
              "0                      16.0                3345612.0  \n",
              "1                      16.0                3345612.0  \n",
              "2                      16.0                3345612.0  \n",
              "3                      16.0                3345612.0  \n",
              "4                      16.0                3345612.0  "
            ]
          },
          "execution_count": 3,
          "metadata": {},
          "output_type": "execute_result"
        }
      ],
      "source": [
        "data_clean.head()"
      ]
    },
    {
      "cell_type": "code",
      "execution_count": null,
      "metadata": {
        "id": "69806hPWrl1c"
      },
      "outputs": [],
      "source": [
        "# one hot encode to make MSN 0-1\n",
        "df_encoded = pd.get_dummies(data_clean, columns=['MSN'])"
      ]
    },
    {
      "cell_type": "code",
      "execution_count": null,
      "metadata": {
        "id": "nazsWCscrl1e",
        "outputId": "13833da1-ead5-4f45-9906-c61315d0d6db"
      },
      "outputs": [
        {
          "data": {
            "text/html": [
              "<div>\n",
              "<style scoped>\n",
              "    .dataframe tbody tr th:only-of-type {\n",
              "        vertical-align: middle;\n",
              "    }\n",
              "\n",
              "    .dataframe tbody tr th {\n",
              "        vertical-align: top;\n",
              "    }\n",
              "\n",
              "    .dataframe thead th {\n",
              "        text-align: right;\n",
              "    }\n",
              "</style>\n",
              "<table border=\"1\" class=\"dataframe\">\n",
              "  <thead>\n",
              "    <tr style=\"text-align: right;\">\n",
              "      <th></th>\n",
              "      <th>Year</th>\n",
              "      <th>Amount</th>\n",
              "      <th>State</th>\n",
              "      <th>CO2 Emissions (Mmt)</th>\n",
              "      <th>TotalNumberofInvestments</th>\n",
              "      <th>TotalAmountofAssistance</th>\n",
              "      <th>MSN_BDFDB</th>\n",
              "      <th>MSN_BDPRP</th>\n",
              "      <th>MSN_BFFDB</th>\n",
              "      <th>MSN_BFPRP</th>\n",
              "      <th>...</th>\n",
              "      <th>MSN_REPRB</th>\n",
              "      <th>MSN_SOTCB</th>\n",
              "      <th>MSN_TEPRB</th>\n",
              "      <th>MSN_TETCB</th>\n",
              "      <th>MSN_WDEXB</th>\n",
              "      <th>MSN_WDPRB</th>\n",
              "      <th>MSN_WDTCB</th>\n",
              "      <th>MSN_WSTCB</th>\n",
              "      <th>MSN_WWPRB</th>\n",
              "      <th>MSN_WYTCB</th>\n",
              "    </tr>\n",
              "  </thead>\n",
              "  <tbody>\n",
              "    <tr>\n",
              "      <th>0</th>\n",
              "      <td>2015</td>\n",
              "      <td>21.0</td>\n",
              "      <td>Alaska</td>\n",
              "      <td>35.027804</td>\n",
              "      <td>16.0</td>\n",
              "      <td>3345612.0</td>\n",
              "      <td>1</td>\n",
              "      <td>0</td>\n",
              "      <td>0</td>\n",
              "      <td>0</td>\n",
              "      <td>...</td>\n",
              "      <td>0</td>\n",
              "      <td>0</td>\n",
              "      <td>0</td>\n",
              "      <td>0</td>\n",
              "      <td>0</td>\n",
              "      <td>0</td>\n",
              "      <td>0</td>\n",
              "      <td>0</td>\n",
              "      <td>0</td>\n",
              "      <td>0</td>\n",
              "    </tr>\n",
              "    <tr>\n",
              "      <th>1</th>\n",
              "      <td>2015</td>\n",
              "      <td>4.0</td>\n",
              "      <td>Alaska</td>\n",
              "      <td>35.027804</td>\n",
              "      <td>16.0</td>\n",
              "      <td>3345612.0</td>\n",
              "      <td>0</td>\n",
              "      <td>1</td>\n",
              "      <td>0</td>\n",
              "      <td>0</td>\n",
              "      <td>...</td>\n",
              "      <td>0</td>\n",
              "      <td>0</td>\n",
              "      <td>0</td>\n",
              "      <td>0</td>\n",
              "      <td>0</td>\n",
              "      <td>0</td>\n",
              "      <td>0</td>\n",
              "      <td>0</td>\n",
              "      <td>0</td>\n",
              "      <td>0</td>\n",
              "    </tr>\n",
              "    <tr>\n",
              "      <th>2</th>\n",
              "      <td>2015</td>\n",
              "      <td>21.0</td>\n",
              "      <td>Alaska</td>\n",
              "      <td>35.027804</td>\n",
              "      <td>16.0</td>\n",
              "      <td>3345612.0</td>\n",
              "      <td>0</td>\n",
              "      <td>0</td>\n",
              "      <td>1</td>\n",
              "      <td>0</td>\n",
              "      <td>...</td>\n",
              "      <td>0</td>\n",
              "      <td>0</td>\n",
              "      <td>0</td>\n",
              "      <td>0</td>\n",
              "      <td>0</td>\n",
              "      <td>0</td>\n",
              "      <td>0</td>\n",
              "      <td>0</td>\n",
              "      <td>0</td>\n",
              "      <td>0</td>\n",
              "    </tr>\n",
              "    <tr>\n",
              "      <th>3</th>\n",
              "      <td>2015</td>\n",
              "      <td>4.0</td>\n",
              "      <td>Alaska</td>\n",
              "      <td>35.027804</td>\n",
              "      <td>16.0</td>\n",
              "      <td>3345612.0</td>\n",
              "      <td>0</td>\n",
              "      <td>0</td>\n",
              "      <td>0</td>\n",
              "      <td>1</td>\n",
              "      <td>...</td>\n",
              "      <td>0</td>\n",
              "      <td>0</td>\n",
              "      <td>0</td>\n",
              "      <td>0</td>\n",
              "      <td>0</td>\n",
              "      <td>0</td>\n",
              "      <td>0</td>\n",
              "      <td>0</td>\n",
              "      <td>0</td>\n",
              "      <td>0</td>\n",
              "    </tr>\n",
              "    <tr>\n",
              "      <th>4</th>\n",
              "      <td>2015</td>\n",
              "      <td>17747.0</td>\n",
              "      <td>Alaska</td>\n",
              "      <td>35.027804</td>\n",
              "      <td>16.0</td>\n",
              "      <td>3345612.0</td>\n",
              "      <td>0</td>\n",
              "      <td>0</td>\n",
              "      <td>0</td>\n",
              "      <td>0</td>\n",
              "      <td>...</td>\n",
              "      <td>0</td>\n",
              "      <td>0</td>\n",
              "      <td>0</td>\n",
              "      <td>0</td>\n",
              "      <td>0</td>\n",
              "      <td>0</td>\n",
              "      <td>0</td>\n",
              "      <td>0</td>\n",
              "      <td>0</td>\n",
              "      <td>0</td>\n",
              "    </tr>\n",
              "  </tbody>\n",
              "</table>\n",
              "<p>5 rows × 35 columns</p>\n",
              "</div>"
            ],
            "text/plain": [
              "   Year   Amount   State  CO2 Emissions (Mmt)  TotalNumberofInvestments  \\\n",
              "0  2015     21.0  Alaska            35.027804                      16.0   \n",
              "1  2015      4.0  Alaska            35.027804                      16.0   \n",
              "2  2015     21.0  Alaska            35.027804                      16.0   \n",
              "3  2015      4.0  Alaska            35.027804                      16.0   \n",
              "4  2015  17747.0  Alaska            35.027804                      16.0   \n",
              "\n",
              "   TotalAmountofAssistance  MSN_BDFDB  MSN_BDPRP  MSN_BFFDB  MSN_BFPRP  ...  \\\n",
              "0                3345612.0          1          0          0          0  ...   \n",
              "1                3345612.0          0          1          0          0  ...   \n",
              "2                3345612.0          0          0          1          0  ...   \n",
              "3                3345612.0          0          0          0          1  ...   \n",
              "4                3345612.0          0          0          0          0  ...   \n",
              "\n",
              "   MSN_REPRB  MSN_SOTCB  MSN_TEPRB  MSN_TETCB  MSN_WDEXB  MSN_WDPRB  \\\n",
              "0          0          0          0          0          0          0   \n",
              "1          0          0          0          0          0          0   \n",
              "2          0          0          0          0          0          0   \n",
              "3          0          0          0          0          0          0   \n",
              "4          0          0          0          0          0          0   \n",
              "\n",
              "   MSN_WDTCB  MSN_WSTCB  MSN_WWPRB  MSN_WYTCB  \n",
              "0          0          0          0          0  \n",
              "1          0          0          0          0  \n",
              "2          0          0          0          0  \n",
              "3          0          0          0          0  \n",
              "4          0          0          0          0  \n",
              "\n",
              "[5 rows x 35 columns]"
            ]
          },
          "execution_count": 5,
          "metadata": {},
          "output_type": "execute_result"
        }
      ],
      "source": [
        "df_encoded.head()"
      ]
    },
    {
      "cell_type": "code",
      "execution_count": null,
      "metadata": {
        "id": "O5CqkVbDrl15"
      },
      "outputs": [],
      "source": [
        "# calculate Amount * MSN\n",
        "for idx in range(6,35):\n",
        "    df_encoded.iloc[:,idx] = np.array(df_encoded.iloc[:,idx]) * np.array(df_encoded['Amount'])"
      ]
    },
    {
      "cell_type": "code",
      "execution_count": null,
      "metadata": {
        "id": "eXZhR5SCrl17",
        "outputId": "9f8129a4-a5ca-4ace-810f-1ab64953ca62"
      },
      "outputs": [
        {
          "data": {
            "text/html": [
              "<div>\n",
              "<style scoped>\n",
              "    .dataframe tbody tr th:only-of-type {\n",
              "        vertical-align: middle;\n",
              "    }\n",
              "\n",
              "    .dataframe tbody tr th {\n",
              "        vertical-align: top;\n",
              "    }\n",
              "\n",
              "    .dataframe thead th {\n",
              "        text-align: right;\n",
              "    }\n",
              "</style>\n",
              "<table border=\"1\" class=\"dataframe\">\n",
              "  <thead>\n",
              "    <tr style=\"text-align: right;\">\n",
              "      <th></th>\n",
              "      <th>Year</th>\n",
              "      <th>Amount</th>\n",
              "      <th>State</th>\n",
              "      <th>CO2 Emissions (Mmt)</th>\n",
              "      <th>TotalNumberofInvestments</th>\n",
              "      <th>TotalAmountofAssistance</th>\n",
              "      <th>MSN_BDFDB</th>\n",
              "      <th>MSN_BDPRP</th>\n",
              "      <th>MSN_BFFDB</th>\n",
              "      <th>MSN_BFPRP</th>\n",
              "      <th>...</th>\n",
              "      <th>MSN_REPRB</th>\n",
              "      <th>MSN_SOTCB</th>\n",
              "      <th>MSN_TEPRB</th>\n",
              "      <th>MSN_TETCB</th>\n",
              "      <th>MSN_WDEXB</th>\n",
              "      <th>MSN_WDPRB</th>\n",
              "      <th>MSN_WDTCB</th>\n",
              "      <th>MSN_WSTCB</th>\n",
              "      <th>MSN_WWPRB</th>\n",
              "      <th>MSN_WYTCB</th>\n",
              "    </tr>\n",
              "  </thead>\n",
              "  <tbody>\n",
              "    <tr>\n",
              "      <th>0</th>\n",
              "      <td>2015</td>\n",
              "      <td>21.0</td>\n",
              "      <td>Alaska</td>\n",
              "      <td>35.027804</td>\n",
              "      <td>16.0</td>\n",
              "      <td>3345612.0</td>\n",
              "      <td>21.0</td>\n",
              "      <td>0.0</td>\n",
              "      <td>0.0</td>\n",
              "      <td>0.0</td>\n",
              "      <td>...</td>\n",
              "      <td>0.0</td>\n",
              "      <td>0.0</td>\n",
              "      <td>0.0</td>\n",
              "      <td>0.0</td>\n",
              "      <td>0.0</td>\n",
              "      <td>0.0</td>\n",
              "      <td>0.0</td>\n",
              "      <td>0.0</td>\n",
              "      <td>0.0</td>\n",
              "      <td>0.0</td>\n",
              "    </tr>\n",
              "    <tr>\n",
              "      <th>1</th>\n",
              "      <td>2015</td>\n",
              "      <td>4.0</td>\n",
              "      <td>Alaska</td>\n",
              "      <td>35.027804</td>\n",
              "      <td>16.0</td>\n",
              "      <td>3345612.0</td>\n",
              "      <td>0.0</td>\n",
              "      <td>4.0</td>\n",
              "      <td>0.0</td>\n",
              "      <td>0.0</td>\n",
              "      <td>...</td>\n",
              "      <td>0.0</td>\n",
              "      <td>0.0</td>\n",
              "      <td>0.0</td>\n",
              "      <td>0.0</td>\n",
              "      <td>0.0</td>\n",
              "      <td>0.0</td>\n",
              "      <td>0.0</td>\n",
              "      <td>0.0</td>\n",
              "      <td>0.0</td>\n",
              "      <td>0.0</td>\n",
              "    </tr>\n",
              "    <tr>\n",
              "      <th>2</th>\n",
              "      <td>2015</td>\n",
              "      <td>21.0</td>\n",
              "      <td>Alaska</td>\n",
              "      <td>35.027804</td>\n",
              "      <td>16.0</td>\n",
              "      <td>3345612.0</td>\n",
              "      <td>0.0</td>\n",
              "      <td>0.0</td>\n",
              "      <td>21.0</td>\n",
              "      <td>0.0</td>\n",
              "      <td>...</td>\n",
              "      <td>0.0</td>\n",
              "      <td>0.0</td>\n",
              "      <td>0.0</td>\n",
              "      <td>0.0</td>\n",
              "      <td>0.0</td>\n",
              "      <td>0.0</td>\n",
              "      <td>0.0</td>\n",
              "      <td>0.0</td>\n",
              "      <td>0.0</td>\n",
              "      <td>0.0</td>\n",
              "    </tr>\n",
              "    <tr>\n",
              "      <th>3</th>\n",
              "      <td>2015</td>\n",
              "      <td>4.0</td>\n",
              "      <td>Alaska</td>\n",
              "      <td>35.027804</td>\n",
              "      <td>16.0</td>\n",
              "      <td>3345612.0</td>\n",
              "      <td>0.0</td>\n",
              "      <td>0.0</td>\n",
              "      <td>0.0</td>\n",
              "      <td>4.0</td>\n",
              "      <td>...</td>\n",
              "      <td>0.0</td>\n",
              "      <td>0.0</td>\n",
              "      <td>0.0</td>\n",
              "      <td>0.0</td>\n",
              "      <td>0.0</td>\n",
              "      <td>0.0</td>\n",
              "      <td>0.0</td>\n",
              "      <td>0.0</td>\n",
              "      <td>0.0</td>\n",
              "      <td>0.0</td>\n",
              "    </tr>\n",
              "    <tr>\n",
              "      <th>4</th>\n",
              "      <td>2015</td>\n",
              "      <td>17747.0</td>\n",
              "      <td>Alaska</td>\n",
              "      <td>35.027804</td>\n",
              "      <td>16.0</td>\n",
              "      <td>3345612.0</td>\n",
              "      <td>0.0</td>\n",
              "      <td>0.0</td>\n",
              "      <td>0.0</td>\n",
              "      <td>0.0</td>\n",
              "      <td>...</td>\n",
              "      <td>0.0</td>\n",
              "      <td>0.0</td>\n",
              "      <td>0.0</td>\n",
              "      <td>0.0</td>\n",
              "      <td>0.0</td>\n",
              "      <td>0.0</td>\n",
              "      <td>0.0</td>\n",
              "      <td>0.0</td>\n",
              "      <td>0.0</td>\n",
              "      <td>0.0</td>\n",
              "    </tr>\n",
              "  </tbody>\n",
              "</table>\n",
              "<p>5 rows × 35 columns</p>\n",
              "</div>"
            ],
            "text/plain": [
              "   Year   Amount   State  CO2 Emissions (Mmt)  TotalNumberofInvestments  \\\n",
              "0  2015     21.0  Alaska            35.027804                      16.0   \n",
              "1  2015      4.0  Alaska            35.027804                      16.0   \n",
              "2  2015     21.0  Alaska            35.027804                      16.0   \n",
              "3  2015      4.0  Alaska            35.027804                      16.0   \n",
              "4  2015  17747.0  Alaska            35.027804                      16.0   \n",
              "\n",
              "   TotalAmountofAssistance  MSN_BDFDB  MSN_BDPRP  MSN_BFFDB  MSN_BFPRP  ...  \\\n",
              "0                3345612.0       21.0        0.0        0.0        0.0  ...   \n",
              "1                3345612.0        0.0        4.0        0.0        0.0  ...   \n",
              "2                3345612.0        0.0        0.0       21.0        0.0  ...   \n",
              "3                3345612.0        0.0        0.0        0.0        4.0  ...   \n",
              "4                3345612.0        0.0        0.0        0.0        0.0  ...   \n",
              "\n",
              "   MSN_REPRB  MSN_SOTCB  MSN_TEPRB  MSN_TETCB  MSN_WDEXB  MSN_WDPRB  \\\n",
              "0        0.0        0.0        0.0        0.0        0.0        0.0   \n",
              "1        0.0        0.0        0.0        0.0        0.0        0.0   \n",
              "2        0.0        0.0        0.0        0.0        0.0        0.0   \n",
              "3        0.0        0.0        0.0        0.0        0.0        0.0   \n",
              "4        0.0        0.0        0.0        0.0        0.0        0.0   \n",
              "\n",
              "   MSN_WDTCB  MSN_WSTCB  MSN_WWPRB  MSN_WYTCB  \n",
              "0        0.0        0.0        0.0        0.0  \n",
              "1        0.0        0.0        0.0        0.0  \n",
              "2        0.0        0.0        0.0        0.0  \n",
              "3        0.0        0.0        0.0        0.0  \n",
              "4        0.0        0.0        0.0        0.0  \n",
              "\n",
              "[5 rows x 35 columns]"
            ]
          },
          "execution_count": 7,
          "metadata": {},
          "output_type": "execute_result"
        }
      ],
      "source": [
        "df_encoded.head()"
      ]
    },
    {
      "cell_type": "code",
      "execution_count": null,
      "metadata": {
        "id": "pDLCNLulrl19"
      },
      "outputs": [],
      "source": [
        "# replace Amount and MSN with Amount * MSN\n",
        "df_new1 = df_encoded.drop(columns=\"Amount\")"
      ]
    },
    {
      "cell_type": "code",
      "execution_count": null,
      "metadata": {
        "id": "Ut-b06qQrl1-",
        "outputId": "bf14e7eb-dbe8-404d-9e58-4add8f94dafb"
      },
      "outputs": [
        {
          "data": {
            "text/html": [
              "<div>\n",
              "<style scoped>\n",
              "    .dataframe tbody tr th:only-of-type {\n",
              "        vertical-align: middle;\n",
              "    }\n",
              "\n",
              "    .dataframe tbody tr th {\n",
              "        vertical-align: top;\n",
              "    }\n",
              "\n",
              "    .dataframe thead th {\n",
              "        text-align: right;\n",
              "    }\n",
              "</style>\n",
              "<table border=\"1\" class=\"dataframe\">\n",
              "  <thead>\n",
              "    <tr style=\"text-align: right;\">\n",
              "      <th></th>\n",
              "      <th>Year</th>\n",
              "      <th>State</th>\n",
              "      <th>CO2 Emissions (Mmt)</th>\n",
              "      <th>TotalNumberofInvestments</th>\n",
              "      <th>TotalAmountofAssistance</th>\n",
              "      <th>MSN_BDFDB</th>\n",
              "      <th>MSN_BDPRP</th>\n",
              "      <th>MSN_BFFDB</th>\n",
              "      <th>MSN_BFPRP</th>\n",
              "      <th>MSN_CLPRB</th>\n",
              "      <th>...</th>\n",
              "      <th>MSN_REPRB</th>\n",
              "      <th>MSN_SOTCB</th>\n",
              "      <th>MSN_TEPRB</th>\n",
              "      <th>MSN_TETCB</th>\n",
              "      <th>MSN_WDEXB</th>\n",
              "      <th>MSN_WDPRB</th>\n",
              "      <th>MSN_WDTCB</th>\n",
              "      <th>MSN_WSTCB</th>\n",
              "      <th>MSN_WWPRB</th>\n",
              "      <th>MSN_WYTCB</th>\n",
              "    </tr>\n",
              "  </thead>\n",
              "  <tbody>\n",
              "    <tr>\n",
              "      <th>0</th>\n",
              "      <td>2015</td>\n",
              "      <td>Alaska</td>\n",
              "      <td>35.027804</td>\n",
              "      <td>16.0</td>\n",
              "      <td>3345612.0</td>\n",
              "      <td>21.0</td>\n",
              "      <td>0.0</td>\n",
              "      <td>0.0</td>\n",
              "      <td>0.0</td>\n",
              "      <td>0.0</td>\n",
              "      <td>...</td>\n",
              "      <td>0.0</td>\n",
              "      <td>0.0</td>\n",
              "      <td>0.0</td>\n",
              "      <td>0.0</td>\n",
              "      <td>0.0</td>\n",
              "      <td>0.0</td>\n",
              "      <td>0.0</td>\n",
              "      <td>0.0</td>\n",
              "      <td>0.0</td>\n",
              "      <td>0.0</td>\n",
              "    </tr>\n",
              "    <tr>\n",
              "      <th>1</th>\n",
              "      <td>2015</td>\n",
              "      <td>Alaska</td>\n",
              "      <td>35.027804</td>\n",
              "      <td>16.0</td>\n",
              "      <td>3345612.0</td>\n",
              "      <td>0.0</td>\n",
              "      <td>4.0</td>\n",
              "      <td>0.0</td>\n",
              "      <td>0.0</td>\n",
              "      <td>0.0</td>\n",
              "      <td>...</td>\n",
              "      <td>0.0</td>\n",
              "      <td>0.0</td>\n",
              "      <td>0.0</td>\n",
              "      <td>0.0</td>\n",
              "      <td>0.0</td>\n",
              "      <td>0.0</td>\n",
              "      <td>0.0</td>\n",
              "      <td>0.0</td>\n",
              "      <td>0.0</td>\n",
              "      <td>0.0</td>\n",
              "    </tr>\n",
              "    <tr>\n",
              "      <th>2</th>\n",
              "      <td>2015</td>\n",
              "      <td>Alaska</td>\n",
              "      <td>35.027804</td>\n",
              "      <td>16.0</td>\n",
              "      <td>3345612.0</td>\n",
              "      <td>0.0</td>\n",
              "      <td>0.0</td>\n",
              "      <td>21.0</td>\n",
              "      <td>0.0</td>\n",
              "      <td>0.0</td>\n",
              "      <td>...</td>\n",
              "      <td>0.0</td>\n",
              "      <td>0.0</td>\n",
              "      <td>0.0</td>\n",
              "      <td>0.0</td>\n",
              "      <td>0.0</td>\n",
              "      <td>0.0</td>\n",
              "      <td>0.0</td>\n",
              "      <td>0.0</td>\n",
              "      <td>0.0</td>\n",
              "      <td>0.0</td>\n",
              "    </tr>\n",
              "    <tr>\n",
              "      <th>3</th>\n",
              "      <td>2015</td>\n",
              "      <td>Alaska</td>\n",
              "      <td>35.027804</td>\n",
              "      <td>16.0</td>\n",
              "      <td>3345612.0</td>\n",
              "      <td>0.0</td>\n",
              "      <td>0.0</td>\n",
              "      <td>0.0</td>\n",
              "      <td>4.0</td>\n",
              "      <td>0.0</td>\n",
              "      <td>...</td>\n",
              "      <td>0.0</td>\n",
              "      <td>0.0</td>\n",
              "      <td>0.0</td>\n",
              "      <td>0.0</td>\n",
              "      <td>0.0</td>\n",
              "      <td>0.0</td>\n",
              "      <td>0.0</td>\n",
              "      <td>0.0</td>\n",
              "      <td>0.0</td>\n",
              "      <td>0.0</td>\n",
              "    </tr>\n",
              "    <tr>\n",
              "      <th>4</th>\n",
              "      <td>2015</td>\n",
              "      <td>Alaska</td>\n",
              "      <td>35.027804</td>\n",
              "      <td>16.0</td>\n",
              "      <td>3345612.0</td>\n",
              "      <td>0.0</td>\n",
              "      <td>0.0</td>\n",
              "      <td>0.0</td>\n",
              "      <td>0.0</td>\n",
              "      <td>17747.0</td>\n",
              "      <td>...</td>\n",
              "      <td>0.0</td>\n",
              "      <td>0.0</td>\n",
              "      <td>0.0</td>\n",
              "      <td>0.0</td>\n",
              "      <td>0.0</td>\n",
              "      <td>0.0</td>\n",
              "      <td>0.0</td>\n",
              "      <td>0.0</td>\n",
              "      <td>0.0</td>\n",
              "      <td>0.0</td>\n",
              "    </tr>\n",
              "  </tbody>\n",
              "</table>\n",
              "<p>5 rows × 34 columns</p>\n",
              "</div>"
            ],
            "text/plain": [
              "   Year   State  CO2 Emissions (Mmt)  TotalNumberofInvestments  \\\n",
              "0  2015  Alaska            35.027804                      16.0   \n",
              "1  2015  Alaska            35.027804                      16.0   \n",
              "2  2015  Alaska            35.027804                      16.0   \n",
              "3  2015  Alaska            35.027804                      16.0   \n",
              "4  2015  Alaska            35.027804                      16.0   \n",
              "\n",
              "   TotalAmountofAssistance  MSN_BDFDB  MSN_BDPRP  MSN_BFFDB  MSN_BFPRP  \\\n",
              "0                3345612.0       21.0        0.0        0.0        0.0   \n",
              "1                3345612.0        0.0        4.0        0.0        0.0   \n",
              "2                3345612.0        0.0        0.0       21.0        0.0   \n",
              "3                3345612.0        0.0        0.0        0.0        4.0   \n",
              "4                3345612.0        0.0        0.0        0.0        0.0   \n",
              "\n",
              "   MSN_CLPRB  ...  MSN_REPRB  MSN_SOTCB  MSN_TEPRB  MSN_TETCB  MSN_WDEXB  \\\n",
              "0        0.0  ...        0.0        0.0        0.0        0.0        0.0   \n",
              "1        0.0  ...        0.0        0.0        0.0        0.0        0.0   \n",
              "2        0.0  ...        0.0        0.0        0.0        0.0        0.0   \n",
              "3        0.0  ...        0.0        0.0        0.0        0.0        0.0   \n",
              "4    17747.0  ...        0.0        0.0        0.0        0.0        0.0   \n",
              "\n",
              "   MSN_WDPRB  MSN_WDTCB  MSN_WSTCB  MSN_WWPRB  MSN_WYTCB  \n",
              "0        0.0        0.0        0.0        0.0        0.0  \n",
              "1        0.0        0.0        0.0        0.0        0.0  \n",
              "2        0.0        0.0        0.0        0.0        0.0  \n",
              "3        0.0        0.0        0.0        0.0        0.0  \n",
              "4        0.0        0.0        0.0        0.0        0.0  \n",
              "\n",
              "[5 rows x 34 columns]"
            ]
          },
          "execution_count": 9,
          "metadata": {},
          "output_type": "execute_result"
        }
      ],
      "source": [
        "df_new1.head() "
      ]
    },
    {
      "cell_type": "code",
      "execution_count": null,
      "metadata": {
        "id": "h1HTP6BHrl1_"
      },
      "outputs": [],
      "source": [
        "# put MSN in one line for each year & state\n",
        "df_new2 = df_new1.groupby(by=['Year', 'State','CO2 Emissions (Mmt)','TotalNumberofInvestments','TotalAmountofAssistance']).sum()"
      ]
    },
    {
      "cell_type": "code",
      "execution_count": null,
      "metadata": {
        "id": "RzCgK4Z8rl2B",
        "outputId": "90e7e479-0ed5-4f65-bc83-8f1ae67d3917"
      },
      "outputs": [
        {
          "data": {
            "text/html": [
              "<div>\n",
              "<style scoped>\n",
              "    .dataframe tbody tr th:only-of-type {\n",
              "        vertical-align: middle;\n",
              "    }\n",
              "\n",
              "    .dataframe tbody tr th {\n",
              "        vertical-align: top;\n",
              "    }\n",
              "\n",
              "    .dataframe thead th {\n",
              "        text-align: right;\n",
              "    }\n",
              "</style>\n",
              "<table border=\"1\" class=\"dataframe\">\n",
              "  <thead>\n",
              "    <tr style=\"text-align: right;\">\n",
              "      <th></th>\n",
              "      <th>Year</th>\n",
              "      <th>State</th>\n",
              "      <th>CO2 Emissions (Mmt)</th>\n",
              "      <th>TotalNumberofInvestments</th>\n",
              "      <th>TotalAmountofAssistance</th>\n",
              "      <th>MSN_BDFDB</th>\n",
              "      <th>MSN_BDPRP</th>\n",
              "      <th>MSN_BFFDB</th>\n",
              "      <th>MSN_BFPRP</th>\n",
              "      <th>MSN_CLPRB</th>\n",
              "      <th>...</th>\n",
              "      <th>MSN_REPRB</th>\n",
              "      <th>MSN_SOTCB</th>\n",
              "      <th>MSN_TEPRB</th>\n",
              "      <th>MSN_TETCB</th>\n",
              "      <th>MSN_WDEXB</th>\n",
              "      <th>MSN_WDPRB</th>\n",
              "      <th>MSN_WDTCB</th>\n",
              "      <th>MSN_WSTCB</th>\n",
              "      <th>MSN_WWPRB</th>\n",
              "      <th>MSN_WYTCB</th>\n",
              "    </tr>\n",
              "  </thead>\n",
              "  <tbody>\n",
              "    <tr>\n",
              "      <th>0</th>\n",
              "      <td>2015</td>\n",
              "      <td>Alabama</td>\n",
              "      <td>119.200889</td>\n",
              "      <td>164.0</td>\n",
              "      <td>1864412.0</td>\n",
              "      <td>1933.0</td>\n",
              "      <td>356.0</td>\n",
              "      <td>1933.0</td>\n",
              "      <td>356.0</td>\n",
              "      <td>331420.0</td>\n",
              "      <td>...</td>\n",
              "      <td>258955.0</td>\n",
              "      <td>101.0</td>\n",
              "      <td>1267004.0</td>\n",
              "      <td>1917138.0</td>\n",
              "      <td>0.0</td>\n",
              "      <td>163313.0</td>\n",
              "      <td>163313.0</td>\n",
              "      <td>1565.0</td>\n",
              "      <td>164877.0</td>\n",
              "      <td>0.0</td>\n",
              "    </tr>\n",
              "    <tr>\n",
              "      <th>1</th>\n",
              "      <td>2015</td>\n",
              "      <td>Alaska</td>\n",
              "      <td>35.027804</td>\n",
              "      <td>16.0</td>\n",
              "      <td>3345612.0</td>\n",
              "      <td>21.0</td>\n",
              "      <td>4.0</td>\n",
              "      <td>21.0</td>\n",
              "      <td>4.0</td>\n",
              "      <td>17747.0</td>\n",
              "      <td>...</td>\n",
              "      <td>23807.0</td>\n",
              "      <td>3.0</td>\n",
              "      <td>2044184.0</td>\n",
              "      <td>0.0</td>\n",
              "      <td>0.0</td>\n",
              "      <td>6865.0</td>\n",
              "      <td>6865.0</td>\n",
              "      <td>622.0</td>\n",
              "      <td>7488.0</td>\n",
              "      <td>1488.0</td>\n",
              "    </tr>\n",
              "    <tr>\n",
              "      <th>2</th>\n",
              "      <td>2015</td>\n",
              "      <td>Arizona</td>\n",
              "      <td>94.978784</td>\n",
              "      <td>65.0</td>\n",
              "      <td>1724853.0</td>\n",
              "      <td>12.0</td>\n",
              "      <td>2.0</td>\n",
              "      <td>6602.0</td>\n",
              "      <td>1157.0</td>\n",
              "      <td>146450.0</td>\n",
              "      <td>...</td>\n",
              "      <td>128954.0</td>\n",
              "      <td>48229.0</td>\n",
              "      <td>615867.0</td>\n",
              "      <td>1495858.0</td>\n",
              "      <td>0.0</td>\n",
              "      <td>8001.0</td>\n",
              "      <td>8001.0</td>\n",
              "      <td>658.0</td>\n",
              "      <td>8659.0</td>\n",
              "      <td>4213.0</td>\n",
              "    </tr>\n",
              "    <tr>\n",
              "      <th>3</th>\n",
              "      <td>2015</td>\n",
              "      <td>Arkansas</td>\n",
              "      <td>59.053365</td>\n",
              "      <td>477.0</td>\n",
              "      <td>13453887.0</td>\n",
              "      <td>4429.0</td>\n",
              "      <td>815.0</td>\n",
              "      <td>4429.0</td>\n",
              "      <td>815.0</td>\n",
              "      <td>1819.0</td>\n",
              "      <td>...</td>\n",
              "      <td>117840.0</td>\n",
              "      <td>124.0</td>\n",
              "      <td>1331452.0</td>\n",
              "      <td>1062359.0</td>\n",
              "      <td>0.0</td>\n",
              "      <td>75417.0</td>\n",
              "      <td>75417.0</td>\n",
              "      <td>3799.0</td>\n",
              "      <td>79217.0</td>\n",
              "      <td>0.0</td>\n",
              "    </tr>\n",
              "    <tr>\n",
              "      <th>4</th>\n",
              "      <td>2015</td>\n",
              "      <td>California</td>\n",
              "      <td>351.408516</td>\n",
              "      <td>1023.0</td>\n",
              "      <td>30077512.0</td>\n",
              "      <td>4057.0</td>\n",
              "      <td>747.0</td>\n",
              "      <td>30601.0</td>\n",
              "      <td>5397.0</td>\n",
              "      <td>0.0</td>\n",
              "      <td>...</td>\n",
              "      <td>737527.0</td>\n",
              "      <td>211839.0</td>\n",
              "      <td>2352883.0</td>\n",
              "      <td>7525491.0</td>\n",
              "      <td>0.0</td>\n",
              "      <td>98852.0</td>\n",
              "      <td>98852.0</td>\n",
              "      <td>40708.0</td>\n",
              "      <td>139561.0</td>\n",
              "      <td>113967.0</td>\n",
              "    </tr>\n",
              "  </tbody>\n",
              "</table>\n",
              "<p>5 rows × 34 columns</p>\n",
              "</div>"
            ],
            "text/plain": [
              "   Year       State  CO2 Emissions (Mmt)  TotalNumberofInvestments  \\\n",
              "0  2015     Alabama           119.200889                     164.0   \n",
              "1  2015      Alaska            35.027804                      16.0   \n",
              "2  2015     Arizona            94.978784                      65.0   \n",
              "3  2015    Arkansas            59.053365                     477.0   \n",
              "4  2015  California           351.408516                    1023.0   \n",
              "\n",
              "   TotalAmountofAssistance  MSN_BDFDB  MSN_BDPRP  MSN_BFFDB  MSN_BFPRP  \\\n",
              "0                1864412.0     1933.0      356.0     1933.0      356.0   \n",
              "1                3345612.0       21.0        4.0       21.0        4.0   \n",
              "2                1724853.0       12.0        2.0     6602.0     1157.0   \n",
              "3               13453887.0     4429.0      815.0     4429.0      815.0   \n",
              "4               30077512.0     4057.0      747.0    30601.0     5397.0   \n",
              "\n",
              "   MSN_CLPRB  ...  MSN_REPRB  MSN_SOTCB  MSN_TEPRB  MSN_TETCB  MSN_WDEXB  \\\n",
              "0   331420.0  ...   258955.0      101.0  1267004.0  1917138.0        0.0   \n",
              "1    17747.0  ...    23807.0        3.0  2044184.0        0.0        0.0   \n",
              "2   146450.0  ...   128954.0    48229.0   615867.0  1495858.0        0.0   \n",
              "3     1819.0  ...   117840.0      124.0  1331452.0  1062359.0        0.0   \n",
              "4        0.0  ...   737527.0   211839.0  2352883.0  7525491.0        0.0   \n",
              "\n",
              "   MSN_WDPRB  MSN_WDTCB  MSN_WSTCB  MSN_WWPRB  MSN_WYTCB  \n",
              "0   163313.0   163313.0     1565.0   164877.0        0.0  \n",
              "1     6865.0     6865.0      622.0     7488.0     1488.0  \n",
              "2     8001.0     8001.0      658.0     8659.0     4213.0  \n",
              "3    75417.0    75417.0     3799.0    79217.0        0.0  \n",
              "4    98852.0    98852.0    40708.0   139561.0   113967.0  \n",
              "\n",
              "[5 rows x 34 columns]"
            ]
          },
          "execution_count": 12,
          "metadata": {},
          "output_type": "execute_result"
        }
      ],
      "source": [
        "# group each year & state MSN * Amount\n",
        "df_new3.head()"
      ]
    },
    {
      "cell_type": "code",
      "execution_count": null,
      "metadata": {
        "id": "b6PYNFJ0rl2C"
      },
      "outputs": [],
      "source": [
        "# make TotalAmountofAssistance as the last column; easy to process\n",
        "df_assi = df_new3['TotalAmountofAssistance']\n",
        "df_new3 = df_new3.drop(['TotalAmountofAssistance'],axis=1)\n",
        "df_new3['TotalAmountofAssistance']=df_assi"
      ]
    },
    {
      "cell_type": "code",
      "execution_count": null,
      "metadata": {
        "id": "J8Pgo8x_rl2C",
        "outputId": "ffe84698-837d-4b8c-aa8e-21882e2bb128"
      },
      "outputs": [
        {
          "data": {
            "text/html": [
              "<div>\n",
              "<style scoped>\n",
              "    .dataframe tbody tr th:only-of-type {\n",
              "        vertical-align: middle;\n",
              "    }\n",
              "\n",
              "    .dataframe tbody tr th {\n",
              "        vertical-align: top;\n",
              "    }\n",
              "\n",
              "    .dataframe thead th {\n",
              "        text-align: right;\n",
              "    }\n",
              "</style>\n",
              "<table border=\"1\" class=\"dataframe\">\n",
              "  <thead>\n",
              "    <tr style=\"text-align: right;\">\n",
              "      <th></th>\n",
              "      <th>Year</th>\n",
              "      <th>State</th>\n",
              "      <th>CO2 Emissions (Mmt)</th>\n",
              "      <th>TotalNumberofInvestments</th>\n",
              "      <th>MSN_BDFDB</th>\n",
              "      <th>MSN_BDPRP</th>\n",
              "      <th>MSN_BFFDB</th>\n",
              "      <th>MSN_BFPRP</th>\n",
              "      <th>MSN_CLPRB</th>\n",
              "      <th>MSN_CLPRK</th>\n",
              "      <th>...</th>\n",
              "      <th>MSN_SOTCB</th>\n",
              "      <th>MSN_TEPRB</th>\n",
              "      <th>MSN_TETCB</th>\n",
              "      <th>MSN_WDEXB</th>\n",
              "      <th>MSN_WDPRB</th>\n",
              "      <th>MSN_WDTCB</th>\n",
              "      <th>MSN_WSTCB</th>\n",
              "      <th>MSN_WWPRB</th>\n",
              "      <th>MSN_WYTCB</th>\n",
              "      <th>TotalAmountofAssistance</th>\n",
              "    </tr>\n",
              "  </thead>\n",
              "  <tbody>\n",
              "    <tr>\n",
              "      <th>0</th>\n",
              "      <td>2015</td>\n",
              "      <td>Alabama</td>\n",
              "      <td>119.200889</td>\n",
              "      <td>164.0</td>\n",
              "      <td>1933.0</td>\n",
              "      <td>356.0</td>\n",
              "      <td>1933.0</td>\n",
              "      <td>356.0</td>\n",
              "      <td>331420.0</td>\n",
              "      <td>25.122</td>\n",
              "      <td>...</td>\n",
              "      <td>101.0</td>\n",
              "      <td>1267004.0</td>\n",
              "      <td>1917138.0</td>\n",
              "      <td>0.0</td>\n",
              "      <td>163313.0</td>\n",
              "      <td>163313.0</td>\n",
              "      <td>1565.0</td>\n",
              "      <td>164877.0</td>\n",
              "      <td>0.0</td>\n",
              "      <td>1864412.0</td>\n",
              "    </tr>\n",
              "    <tr>\n",
              "      <th>1</th>\n",
              "      <td>2015</td>\n",
              "      <td>Alaska</td>\n",
              "      <td>35.027804</td>\n",
              "      <td>16.0</td>\n",
              "      <td>21.0</td>\n",
              "      <td>4.0</td>\n",
              "      <td>21.0</td>\n",
              "      <td>4.0</td>\n",
              "      <td>17747.0</td>\n",
              "      <td>15.073</td>\n",
              "      <td>...</td>\n",
              "      <td>3.0</td>\n",
              "      <td>2044184.0</td>\n",
              "      <td>0.0</td>\n",
              "      <td>0.0</td>\n",
              "      <td>6865.0</td>\n",
              "      <td>6865.0</td>\n",
              "      <td>622.0</td>\n",
              "      <td>7488.0</td>\n",
              "      <td>1488.0</td>\n",
              "      <td>3345612.0</td>\n",
              "    </tr>\n",
              "    <tr>\n",
              "      <th>2</th>\n",
              "      <td>2015</td>\n",
              "      <td>Arizona</td>\n",
              "      <td>94.978784</td>\n",
              "      <td>65.0</td>\n",
              "      <td>12.0</td>\n",
              "      <td>2.0</td>\n",
              "      <td>6602.0</td>\n",
              "      <td>1157.0</td>\n",
              "      <td>146450.0</td>\n",
              "      <td>21.522</td>\n",
              "      <td>...</td>\n",
              "      <td>48229.0</td>\n",
              "      <td>615867.0</td>\n",
              "      <td>1495858.0</td>\n",
              "      <td>0.0</td>\n",
              "      <td>8001.0</td>\n",
              "      <td>8001.0</td>\n",
              "      <td>658.0</td>\n",
              "      <td>8659.0</td>\n",
              "      <td>4213.0</td>\n",
              "      <td>1724853.0</td>\n",
              "    </tr>\n",
              "    <tr>\n",
              "      <th>3</th>\n",
              "      <td>2015</td>\n",
              "      <td>Arkansas</td>\n",
              "      <td>59.053365</td>\n",
              "      <td>477.0</td>\n",
              "      <td>4429.0</td>\n",
              "      <td>815.0</td>\n",
              "      <td>4429.0</td>\n",
              "      <td>815.0</td>\n",
              "      <td>1819.0</td>\n",
              "      <td>19.893</td>\n",
              "      <td>...</td>\n",
              "      <td>124.0</td>\n",
              "      <td>1331452.0</td>\n",
              "      <td>1062359.0</td>\n",
              "      <td>0.0</td>\n",
              "      <td>75417.0</td>\n",
              "      <td>75417.0</td>\n",
              "      <td>3799.0</td>\n",
              "      <td>79217.0</td>\n",
              "      <td>0.0</td>\n",
              "      <td>13453887.0</td>\n",
              "    </tr>\n",
              "    <tr>\n",
              "      <th>4</th>\n",
              "      <td>2015</td>\n",
              "      <td>California</td>\n",
              "      <td>351.408516</td>\n",
              "      <td>1023.0</td>\n",
              "      <td>4057.0</td>\n",
              "      <td>747.0</td>\n",
              "      <td>30601.0</td>\n",
              "      <td>5397.0</td>\n",
              "      <td>0.0</td>\n",
              "      <td>0.000</td>\n",
              "      <td>...</td>\n",
              "      <td>211839.0</td>\n",
              "      <td>2352883.0</td>\n",
              "      <td>7525491.0</td>\n",
              "      <td>0.0</td>\n",
              "      <td>98852.0</td>\n",
              "      <td>98852.0</td>\n",
              "      <td>40708.0</td>\n",
              "      <td>139561.0</td>\n",
              "      <td>113967.0</td>\n",
              "      <td>30077512.0</td>\n",
              "    </tr>\n",
              "  </tbody>\n",
              "</table>\n",
              "<p>5 rows × 34 columns</p>\n",
              "</div>"
            ],
            "text/plain": [
              "   Year       State  CO2 Emissions (Mmt)  TotalNumberofInvestments  MSN_BDFDB  \\\n",
              "0  2015     Alabama           119.200889                     164.0     1933.0   \n",
              "1  2015      Alaska            35.027804                      16.0       21.0   \n",
              "2  2015     Arizona            94.978784                      65.0       12.0   \n",
              "3  2015    Arkansas            59.053365                     477.0     4429.0   \n",
              "4  2015  California           351.408516                    1023.0     4057.0   \n",
              "\n",
              "   MSN_BDPRP  MSN_BFFDB  MSN_BFPRP  MSN_CLPRB  MSN_CLPRK  ...  MSN_SOTCB  \\\n",
              "0      356.0     1933.0      356.0   331420.0     25.122  ...      101.0   \n",
              "1        4.0       21.0        4.0    17747.0     15.073  ...        3.0   \n",
              "2        2.0     6602.0     1157.0   146450.0     21.522  ...    48229.0   \n",
              "3      815.0     4429.0      815.0     1819.0     19.893  ...      124.0   \n",
              "4      747.0    30601.0     5397.0        0.0      0.000  ...   211839.0   \n",
              "\n",
              "   MSN_TEPRB  MSN_TETCB  MSN_WDEXB  MSN_WDPRB  MSN_WDTCB  MSN_WSTCB  \\\n",
              "0  1267004.0  1917138.0        0.0   163313.0   163313.0     1565.0   \n",
              "1  2044184.0        0.0        0.0     6865.0     6865.0      622.0   \n",
              "2   615867.0  1495858.0        0.0     8001.0     8001.0      658.0   \n",
              "3  1331452.0  1062359.0        0.0    75417.0    75417.0     3799.0   \n",
              "4  2352883.0  7525491.0        0.0    98852.0    98852.0    40708.0   \n",
              "\n",
              "   MSN_WWPRB  MSN_WYTCB  TotalAmountofAssistance  \n",
              "0   164877.0        0.0                1864412.0  \n",
              "1     7488.0     1488.0                3345612.0  \n",
              "2     8659.0     4213.0                1724853.0  \n",
              "3    79217.0        0.0               13453887.0  \n",
              "4   139561.0   113967.0               30077512.0  \n",
              "\n",
              "[5 rows x 34 columns]"
            ]
          },
          "execution_count": 14,
          "metadata": {},
          "output_type": "execute_result"
        }
      ],
      "source": [
        "df_new3.head()"
      ]
    },
    {
      "cell_type": "code",
      "execution_count": null,
      "metadata": {
        "id": "w-QhW5ukrl2D"
      },
      "outputs": [],
      "source": [
        "# one hot encoding: make state as categorical variable\n",
        "df_new4 = pd.get_dummies(df_new3, columns=['State'])"
      ]
    },
    {
      "cell_type": "code",
      "execution_count": null,
      "metadata": {
        "id": "8JAd-mP-rl2E"
      },
      "outputs": [],
      "source": [
        "df_assi = df_new4['TotalAmountofAssistance']\n",
        "df_new4 = df_new4.drop(['TotalAmountofAssistance'],axis=1)\n",
        "df_new4['TotalAmountofAssistance']=df_assi"
      ]
    },
    {
      "cell_type": "code",
      "execution_count": null,
      "metadata": {
        "id": "8SrpRpGtrl2E",
        "outputId": "16148c31-67ff-4ef9-db09-3c25745794e6"
      },
      "outputs": [
        {
          "data": {
            "text/html": [
              "<div>\n",
              "<style scoped>\n",
              "    .dataframe tbody tr th:only-of-type {\n",
              "        vertical-align: middle;\n",
              "    }\n",
              "\n",
              "    .dataframe tbody tr th {\n",
              "        vertical-align: top;\n",
              "    }\n",
              "\n",
              "    .dataframe thead th {\n",
              "        text-align: right;\n",
              "    }\n",
              "</style>\n",
              "<table border=\"1\" class=\"dataframe\">\n",
              "  <thead>\n",
              "    <tr style=\"text-align: right;\">\n",
              "      <th></th>\n",
              "      <th>Year</th>\n",
              "      <th>CO2 Emissions (Mmt)</th>\n",
              "      <th>TotalNumberofInvestments</th>\n",
              "      <th>MSN_BDFDB</th>\n",
              "      <th>MSN_BDPRP</th>\n",
              "      <th>MSN_BFFDB</th>\n",
              "      <th>MSN_BFPRP</th>\n",
              "      <th>MSN_CLPRB</th>\n",
              "      <th>MSN_CLPRK</th>\n",
              "      <th>MSN_CLPRP</th>\n",
              "      <th>...</th>\n",
              "      <th>State_Tennessee</th>\n",
              "      <th>State_Texas</th>\n",
              "      <th>State_Utah</th>\n",
              "      <th>State_Vermont</th>\n",
              "      <th>State_Virginia</th>\n",
              "      <th>State_Washington</th>\n",
              "      <th>State_West Virginia</th>\n",
              "      <th>State_Wisconsin</th>\n",
              "      <th>State_Wyoming</th>\n",
              "      <th>TotalAmountofAssistance</th>\n",
              "    </tr>\n",
              "  </thead>\n",
              "  <tbody>\n",
              "    <tr>\n",
              "      <th>0</th>\n",
              "      <td>2015</td>\n",
              "      <td>119.200889</td>\n",
              "      <td>164.0</td>\n",
              "      <td>1933.0</td>\n",
              "      <td>356.0</td>\n",
              "      <td>1933.0</td>\n",
              "      <td>356.0</td>\n",
              "      <td>331420.0</td>\n",
              "      <td>25.122</td>\n",
              "      <td>13193.0</td>\n",
              "      <td>...</td>\n",
              "      <td>0</td>\n",
              "      <td>0</td>\n",
              "      <td>0</td>\n",
              "      <td>0</td>\n",
              "      <td>0</td>\n",
              "      <td>0</td>\n",
              "      <td>0</td>\n",
              "      <td>0</td>\n",
              "      <td>0</td>\n",
              "      <td>1864412.0</td>\n",
              "    </tr>\n",
              "    <tr>\n",
              "      <th>1</th>\n",
              "      <td>2015</td>\n",
              "      <td>35.027804</td>\n",
              "      <td>16.0</td>\n",
              "      <td>21.0</td>\n",
              "      <td>4.0</td>\n",
              "      <td>21.0</td>\n",
              "      <td>4.0</td>\n",
              "      <td>17747.0</td>\n",
              "      <td>15.073</td>\n",
              "      <td>1177.0</td>\n",
              "      <td>...</td>\n",
              "      <td>0</td>\n",
              "      <td>0</td>\n",
              "      <td>0</td>\n",
              "      <td>0</td>\n",
              "      <td>0</td>\n",
              "      <td>0</td>\n",
              "      <td>0</td>\n",
              "      <td>0</td>\n",
              "      <td>0</td>\n",
              "      <td>3345612.0</td>\n",
              "    </tr>\n",
              "    <tr>\n",
              "      <th>2</th>\n",
              "      <td>2015</td>\n",
              "      <td>94.978784</td>\n",
              "      <td>65.0</td>\n",
              "      <td>12.0</td>\n",
              "      <td>2.0</td>\n",
              "      <td>6602.0</td>\n",
              "      <td>1157.0</td>\n",
              "      <td>146450.0</td>\n",
              "      <td>21.522</td>\n",
              "      <td>6805.0</td>\n",
              "      <td>...</td>\n",
              "      <td>0</td>\n",
              "      <td>0</td>\n",
              "      <td>0</td>\n",
              "      <td>0</td>\n",
              "      <td>0</td>\n",
              "      <td>0</td>\n",
              "      <td>0</td>\n",
              "      <td>0</td>\n",
              "      <td>0</td>\n",
              "      <td>1724853.0</td>\n",
              "    </tr>\n",
              "    <tr>\n",
              "      <th>3</th>\n",
              "      <td>2015</td>\n",
              "      <td>59.053365</td>\n",
              "      <td>477.0</td>\n",
              "      <td>4429.0</td>\n",
              "      <td>815.0</td>\n",
              "      <td>4429.0</td>\n",
              "      <td>815.0</td>\n",
              "      <td>1819.0</td>\n",
              "      <td>19.893</td>\n",
              "      <td>91.0</td>\n",
              "      <td>...</td>\n",
              "      <td>0</td>\n",
              "      <td>0</td>\n",
              "      <td>0</td>\n",
              "      <td>0</td>\n",
              "      <td>0</td>\n",
              "      <td>0</td>\n",
              "      <td>0</td>\n",
              "      <td>0</td>\n",
              "      <td>0</td>\n",
              "      <td>13453887.0</td>\n",
              "    </tr>\n",
              "    <tr>\n",
              "      <th>4</th>\n",
              "      <td>2015</td>\n",
              "      <td>351.408516</td>\n",
              "      <td>1023.0</td>\n",
              "      <td>4057.0</td>\n",
              "      <td>747.0</td>\n",
              "      <td>30601.0</td>\n",
              "      <td>5397.0</td>\n",
              "      <td>0.0</td>\n",
              "      <td>0.000</td>\n",
              "      <td>0.0</td>\n",
              "      <td>...</td>\n",
              "      <td>0</td>\n",
              "      <td>0</td>\n",
              "      <td>0</td>\n",
              "      <td>0</td>\n",
              "      <td>0</td>\n",
              "      <td>0</td>\n",
              "      <td>0</td>\n",
              "      <td>0</td>\n",
              "      <td>0</td>\n",
              "      <td>30077512.0</td>\n",
              "    </tr>\n",
              "  </tbody>\n",
              "</table>\n",
              "<p>5 rows × 83 columns</p>\n",
              "</div>"
            ],
            "text/plain": [
              "   Year  CO2 Emissions (Mmt)  TotalNumberofInvestments  MSN_BDFDB  MSN_BDPRP  \\\n",
              "0  2015           119.200889                     164.0     1933.0      356.0   \n",
              "1  2015            35.027804                      16.0       21.0        4.0   \n",
              "2  2015            94.978784                      65.0       12.0        2.0   \n",
              "3  2015            59.053365                     477.0     4429.0      815.0   \n",
              "4  2015           351.408516                    1023.0     4057.0      747.0   \n",
              "\n",
              "   MSN_BFFDB  MSN_BFPRP  MSN_CLPRB  MSN_CLPRK  MSN_CLPRP  ...  \\\n",
              "0     1933.0      356.0   331420.0     25.122    13193.0  ...   \n",
              "1       21.0        4.0    17747.0     15.073     1177.0  ...   \n",
              "2     6602.0     1157.0   146450.0     21.522     6805.0  ...   \n",
              "3     4429.0      815.0     1819.0     19.893       91.0  ...   \n",
              "4    30601.0     5397.0        0.0      0.000        0.0  ...   \n",
              "\n",
              "   State_Tennessee  State_Texas  State_Utah  State_Vermont  State_Virginia  \\\n",
              "0                0            0           0              0               0   \n",
              "1                0            0           0              0               0   \n",
              "2                0            0           0              0               0   \n",
              "3                0            0           0              0               0   \n",
              "4                0            0           0              0               0   \n",
              "\n",
              "   State_Washington  State_West Virginia  State_Wisconsin  State_Wyoming  \\\n",
              "0                 0                    0                0              0   \n",
              "1                 0                    0                0              0   \n",
              "2                 0                    0                0              0   \n",
              "3                 0                    0                0              0   \n",
              "4                 0                    0                0              0   \n",
              "\n",
              "   TotalAmountofAssistance  \n",
              "0                1864412.0  \n",
              "1                3345612.0  \n",
              "2                1724853.0  \n",
              "3               13453887.0  \n",
              "4               30077512.0  \n",
              "\n",
              "[5 rows x 83 columns]"
            ]
          },
          "execution_count": 17,
          "metadata": {},
          "output_type": "execute_result"
        }
      ],
      "source": [
        "# state to 0-1 variable\n",
        "df_new4.head()"
      ]
    },
    {
      "cell_type": "markdown",
      "metadata": {
        "id": "xTCBeI6Yrl2F"
      },
      "source": [
        "# (1)Model with group by year and state data"
      ]
    },
    {
      "cell_type": "markdown",
      "metadata": {
        "id": "I5Lw-_Ywrl2F"
      },
      "source": [
        "# (1.1) Linear"
      ]
    },
    {
      "cell_type": "code",
      "execution_count": null,
      "metadata": {
        "id": "AZr5ZYGOrl2F"
      },
      "outputs": [],
      "source": [
        "X = df_new3.iloc[:,:-1]\n",
        "y = df_new3['TotalAmountofAssistance']\n",
        "X_train, X_test, y_train, y_test = train_test_split(X, y, test_size=0.2)"
      ]
    },
    {
      "cell_type": "code",
      "execution_count": null,
      "metadata": {
        "id": "i3VGxbFnrl2G"
      },
      "outputs": [],
      "source": [
        "train = pd.concat([X_train, y_train], axis=1)\n",
        "test = pd.concat([X_test, y_test], axis=1)"
      ]
    },
    {
      "cell_type": "code",
      "execution_count": null,
      "metadata": {
        "id": "fAiHNzrmrl2H"
      },
      "outputs": [],
      "source": [
        "linear_model = sm.OLS.from_formula('TotalAmountofAssistance ~ C(State) + TotalNumberofInvestments + MSN_BDFDB + MSN_NGMPP + MSN_WWPRB + MSN_WSTCB + MSN_WDTCB + MSN_WDPRB + MSN_WDEXB + MSN_TETCB + MSN_TEPRB + MSN_SOTCB + MSN_REPRB + MSN_PAPRP + MSN_PAPRB + MSN_NUETB + MSN_NGMPK + MSN_BDPRP + MSN_NGMPB + MSN_NCPRB + MSN_HYTCB + MSN_GETCB + MSN_ENPRP + MSN_EMFDB + MSN_COPRK + MSN_CLPRP + MSN_CLPRK + MSN_CLPRB + MSN_BFPRP + MSN_BFFDB + MSN_WYTCB', data=train)\n",
        "result = linear_model.fit()\n",
        "y_predicted = result.predict(test)\n",
        "MSE = mean_squared_error(test['TotalAmountofAssistance'], y_predicted)\n",
        "RMSE = math.sqrt(MSE)"
      ]
    },
    {
      "cell_type": "code",
      "execution_count": null,
      "metadata": {
        "id": "jBChu_Zxrl2I",
        "outputId": "5f526b20-746f-4dbe-fe9d-8f319e1ac286"
      },
      "outputs": [
        {
          "data": {
            "text/plain": [
              "153928095447.2145"
            ]
          },
          "execution_count": 130,
          "metadata": {},
          "output_type": "execute_result"
        }
      ],
      "source": [
        "RMSE"
      ]
    },
    {
      "cell_type": "markdown",
      "metadata": {
        "id": "xEXfLap2rl2I"
      },
      "source": [
        "# (1.2) SVM"
      ]
    },
    {
      "cell_type": "code",
      "execution_count": null,
      "metadata": {
        "id": "QZubsc1mrl2J",
        "outputId": "d2c601ec-1891-401e-abfe-b92fa2315cf6"
      },
      "outputs": [
        {
          "data": {
            "text/plain": [
              "GridSearchCV(cv=None, error_score=nan,\n",
              "             estimator=SVR(C=1.0, cache_size=200, coef0=0.0, degree=3,\n",
              "                           epsilon=0.1, gamma='scale', kernel='rbf',\n",
              "                           max_iter=-1, shrinking=True, tol=0.001,\n",
              "                           verbose=False),\n",
              "             iid='deprecated', n_jobs=None,\n",
              "             param_grid={'C': [100, 1000, 10000, 100000, 100000, 10000000000]},\n",
              "             pre_dispatch='2*n_jobs', refit=True, return_train_score=False,\n",
              "             scoring=None, verbose=0)"
            ]
          },
          "execution_count": 104,
          "metadata": {},
          "output_type": "execute_result"
        }
      ],
      "source": [
        "param_test1 = {'C': [100, 1000, 10000,100000,100000, 10000000000]}\n",
        "X = df_new4.iloc[:,:-1]\n",
        "y = df_new4['TotalAmountofAssistance']\n",
        "X_train, X_test, y_train, y_test = train_test_split(X, y, test_size=0.2)\n",
        "\n",
        "    # Initialize the model\n",
        "svc = svm.SVR()\n",
        "clf = GridSearchCV(svc, param_test1)\n",
        "clf.fit(X_train, y_train)"
      ]
    },
    {
      "cell_type": "code",
      "execution_count": null,
      "metadata": {
        "id": "-QdN-KPWrl2K",
        "outputId": "042cc6de-59a8-40f0-dffc-f227ebbadd62"
      },
      "outputs": [
        {
          "data": {
            "text/plain": [
              "{'C': 100000}"
            ]
          },
          "execution_count": 105,
          "metadata": {},
          "output_type": "execute_result"
        }
      ],
      "source": [
        "clf.best_params_"
      ]
    },
    {
      "cell_type": "code",
      "execution_count": null,
      "metadata": {
        "id": "QVtdSui_rl2K"
      },
      "outputs": [],
      "source": [
        "rmse_svm1 = []\n",
        "for dummy in range(20):\n",
        "    X_train, X_test, y_train, y_test = train_test_split(X, y, test_size=0.2)\n",
        "    regr = svm.SVR(C=100000)\n",
        "    regr.fit(X_train, y_train)\n",
        "\n",
        "    y_pred = regr.predict(X_test)\n",
        "    MSE = mean_squared_error(y_test, y_pred)\n",
        "    RMSE = math.sqrt(MSE) \n",
        "    rmse_svm1.append(RMSE)\n",
        "avg_rmse_svm1 = np.mean(rmse_svm1)    "
      ]
    },
    {
      "cell_type": "code",
      "execution_count": null,
      "metadata": {
        "id": "DJec-_Bxrl2K",
        "outputId": "df1772df-faa4-49fd-9a91-fe0f0c14c059"
      },
      "outputs": [
        {
          "data": {
            "text/plain": [
              "Text(0.5, 1.0, 'RMSE SVM 250rows')"
            ]
          },
          "execution_count": 132,
          "metadata": {},
          "output_type": "execute_result"
        },
        {
          "data": {
            "image/png": "[encoded data removed]",
            "text/plain": [
              "<Figure size 432x288 with 1 Axes>"
            ]
          },
          "metadata": {
            "needs_background": "light"
          },
          "output_type": "display_data"
        }
      ],
      "source": [
        "plt.plot(rmse_svm1)\n",
        "plt.xlabel(\"trial_time\")\n",
        "plt.ylabel(\"RMSE\")\n",
        "plt.title(\"RMSE SVM 250rows\")"
      ]
    },
    {
      "cell_type": "code",
      "execution_count": null,
      "metadata": {
        "id": "QC4itXYPrl2L",
        "outputId": "77fcc2ac-5f08-4af5-9bdd-a8fe5d480868"
      },
      "outputs": [
        {
          "data": {
            "text/plain": [
              "46478462.691257074"
            ]
          },
          "execution_count": 122,
          "metadata": {},
          "output_type": "execute_result"
        }
      ],
      "source": [
        "avg_rmse_svm1"
      ]
    },
    {
      "cell_type": "markdown",
      "metadata": {
        "id": "zjZG9cz1rl2L"
      },
      "source": [
        "# (1.3) RandomForest"
      ]
    },
    {
      "cell_type": "code",
      "execution_count": null,
      "metadata": {
        "id": "UvKzc2Trrl2L",
        "outputId": "bf54b6b7-f8e1-4c42-f4c4-ec4bdfe8492d"
      },
      "outputs": [
        {
          "data": {
            "text/plain": [
              "GridSearchCV(cv=None, error_score=nan,\n",
              "             estimator=RandomForestRegressor(bootstrap=True, ccp_alpha=0.0,\n",
              "                                             criterion='mse', max_depth=None,\n",
              "                                             max_features='auto',\n",
              "                                             max_leaf_nodes=None,\n",
              "                                             max_samples=None,\n",
              "                                             min_impurity_decrease=0.0,\n",
              "                                             min_impurity_split=None,\n",
              "                                             min_samples_leaf=1,\n",
              "                                             min_samples_split=2,\n",
              "                                             min_weight_fraction_leaf=0.0,\n",
              "                                             n_estimators=100, n_jobs=None,\n",
              "                                             oob_score=False, random_state=None,\n",
              "                                             verbose=0, warm_start=False),\n",
              "             iid='deprecated', n_jobs=None,\n",
              "             param_grid={'max_depth': [1, 3, 5, 15],\n",
              "                         'n_estimators': range(5, 25, 5)},\n",
              "             pre_dispatch='2*n_jobs', refit=True, return_train_score=False,\n",
              "             scoring=None, verbose=0)"
            ]
          },
          "execution_count": 92,
          "metadata": {},
          "output_type": "execute_result"
        }
      ],
      "source": [
        "param_test2 = {'n_estimators':range(5,25,5), 'max_depth':[1,3,5,15]}\n",
        "X = df_new4.iloc[:,:-1]\n",
        "y = df_new4['TotalAmountofAssistance']\n",
        "X_train, X_test, y_train, y_test = train_test_split(X, y, test_size=0.2)\n",
        "\n",
        "    # Initialize the model\n",
        "rf = RandomForestRegressor()\n",
        "\n",
        "    # Fit the model to the training data\n",
        "\n",
        "clf = GridSearchCV(rf, param_test2)\n",
        "clf.fit(X_train, y_train)"
      ]
    },
    {
      "cell_type": "code",
      "execution_count": null,
      "metadata": {
        "id": "t3kU_3cIrl2M",
        "outputId": "10bddd43-6b45-4b55-a225-17a68c843e89"
      },
      "outputs": [
        {
          "data": {
            "text/plain": [
              "{'max_depth': 5, 'n_estimators': 20}"
            ]
          },
          "execution_count": 93,
          "metadata": {},
          "output_type": "execute_result"
        }
      ],
      "source": [
        "clf.best_params_"
      ]
    },
    {
      "cell_type": "code",
      "execution_count": null,
      "metadata": {
        "id": "3auZo-cnrl2M"
      },
      "outputs": [],
      "source": [
        "rmse_forest1 = []\n",
        "for dummy in range(20):\n",
        "    # Split data into input features (X) and target variable (y)\n",
        "    X = df_new4.iloc[:,:-1]\n",
        "    y = df_new4['TotalAmountofAssistance']\n",
        "\n",
        "    # Split data into training and test sets\n",
        "    X_train, X_test, y_train, y_test = train_test_split(X, y, test_size=0.2)\n",
        "\n",
        "    # Initialize the model\n",
        "    rf = RandomForestRegressor(n_estimators=20,max_depth=5)\n",
        "\n",
        "    # Fit the model to the training data\n",
        "    rf.fit(X_train, y_train)\n",
        "\n",
        "    # Make predictions on the test set\n",
        "    y_pred = rf.predict(X_test)\n",
        "    MSE = mean_squared_error(y_test, y_pred)\n",
        "\n",
        "    RMSE = math.sqrt(MSE)\n",
        "    rmse_forest1.append(RMSE)\n",
        "avg_rmse_forest1 = np.mean(rmse_forest1)"
      ]
    },
    {
      "cell_type": "code",
      "execution_count": null,
      "metadata": {
        "id": "Ue_rrypUrl2N",
        "outputId": "93f47f93-7f87-4d69-f16a-9574d0d38cd5"
      },
      "outputs": [
        {
          "data": {
            "text/plain": [
              "Text(0.5, 1.0, 'RMSE RandomForest 250rows')"
            ]
          },
          "execution_count": 115,
          "metadata": {},
          "output_type": "execute_result"
        },
        {
          "data": {
            "image/png": "[encoded data removed]",
            "text/plain": [
              "<Figure size 432x288 with 1 Axes>"
            ]
          },
          "metadata": {
            "needs_background": "light"
          },
          "output_type": "display_data"
        }
      ],
      "source": [
        "plt.plot(rmse_forest1)\n",
        "plt.xlabel(\"trial_time\")\n",
        "plt.ylabel(\"RMSE\")\n",
        "plt.title(\"RMSE RandomForest 250rows\")"
      ]
    },
    {
      "cell_type": "code",
      "execution_count": null,
      "metadata": {
        "id": "fxzIVPjIrl2N",
        "outputId": "317c158a-f4fc-4023-e57c-7ce8fc1cf55a"
      },
      "outputs": [
        {
          "data": {
            "text/plain": [
              "41203279.398228794"
            ]
          },
          "execution_count": 116,
          "metadata": {},
          "output_type": "execute_result"
        }
      ],
      "source": [
        "avg_rmse_forest1"
      ]
    },
    {
      "cell_type": "markdown",
      "metadata": {
        "id": "vFonFB97rl2O"
      },
      "source": [
        "# Model(7250 rows)"
      ]
    },
    {
      "cell_type": "code",
      "execution_count": null,
      "metadata": {
        "id": "Gn-NE95hrl2Q"
      },
      "outputs": [],
      "source": [
        "# do not group, keep 7250rows\n",
        "df_new5 = pd.get_dummies(df_new1, columns=['State'])\n",
        "df_assi = df_new5['TotalAmountofAssistance']\n",
        "df_new5 = df_new5.drop(['TotalAmountofAssistance'],axis=1)\n",
        "df_new5['TotalAmountofAssistance']=df_assi"
      ]
    },
    {
      "cell_type": "code",
      "execution_count": null,
      "metadata": {
        "id": "csxjOQdkrl2S",
        "outputId": "67893984-333d-4bd8-f61e-8333c47225db"
      },
      "outputs": [
        {
          "data": {
            "text/plain": [
              "GridSearchCV(cv=None, error_score=nan,\n",
              "             estimator=RandomForestRegressor(bootstrap=True, ccp_alpha=0.0,\n",
              "                                             criterion='mse', max_depth=None,\n",
              "                                             max_features='auto',\n",
              "                                             max_leaf_nodes=None,\n",
              "                                             max_samples=None,\n",
              "                                             min_impurity_decrease=0.0,\n",
              "                                             min_impurity_split=None,\n",
              "                                             min_samples_leaf=1,\n",
              "                                             min_samples_split=2,\n",
              "                                             min_weight_fraction_leaf=0.0,\n",
              "                                             n_estimators=100, n_jobs=None,\n",
              "                                             oob_score=False, random_state=None,\n",
              "                                             verbose=0, warm_start=False),\n",
              "             iid='deprecated', n_jobs=None,\n",
              "             param_grid={'max_depth': [90, 120, 150, 180],\n",
              "                         'n_estimators': [10, 30, 50, 70, 90]},\n",
              "             pre_dispatch='2*n_jobs', refit=True, return_train_score=False,\n",
              "             scoring=None, verbose=0)"
            ]
          },
          "execution_count": 185,
          "metadata": {},
          "output_type": "execute_result"
        }
      ],
      "source": [
        "param_test3 = {'n_estimators':[50,70,90,120,150], 'max_depth':[40,60,90,120,150]}\n",
        "X = df_new5.iloc[:,:-1]\n",
        "y = df_new5['TotalAmountofAssistance']\n",
        "X_train, X_test, y_train, y_test = train_test_split(X, y, test_size=0.2)\n",
        "\n",
        "# Initialize the model\n",
        "rf = RandomForestRegressor()\n",
        "\n",
        "# Fit the model to the training data\n",
        "\n",
        "clf = GridSearchCV(rf, param_test3)\n",
        "clf.fit(X_train, y_train)"
      ]
    },
    {
      "cell_type": "code",
      "execution_count": null,
      "metadata": {
        "id": "VaIc1-HBrl2S",
        "outputId": "995be1bf-ebe6-49d6-d93c-e0377161b92e"
      },
      "outputs": [
        {
          "data": {
            "text/plain": [
              "{'max_depth': 90, 'n_estimators': 30}"
            ]
          },
          "execution_count": 189,
          "metadata": {},
          "output_type": "execute_result"
        }
      ],
      "source": [
        "clf.best_params_"
      ]
    },
    {
      "cell_type": "code",
      "execution_count": null,
      "metadata": {
        "id": "hTYD9JMVrl2T"
      },
      "outputs": [],
      "source": [
        "X_train, X_test, y_train, y_test = train_test_split(X, y, test_size=0.2)\n",
        "rmse_forest2=[]\n",
        "for dummy in range(20):\n",
        "    # Initialize the model\n",
        "    rf = RandomForestRegressor(n_estimators=30,max_depth=90)\n",
        "\n",
        "    # Fit the model to the training data\n",
        "    rf.fit(X_train, y_train)\n",
        "\n",
        "    # Make predictions on the test set\n",
        "    y_pred = rf.predict(X_test)\n",
        "    MSE = mean_squared_error(y_test, y_pred)\n",
        "\n",
        "    RMSE = math.sqrt(MSE) \n",
        "    rmse_forest2.append(RMSE)\n",
        "avg_rmse_forest2 = np.mean(rmse_forest2)"
      ]
    },
    {
      "cell_type": "code",
      "execution_count": null,
      "metadata": {
        "id": "vx3B8MHqrl2T",
        "outputId": "a4a14b24-7a86-4983-83c8-8db325fb7a26"
      },
      "outputs": [
        {
          "data": {
            "text/plain": [
              "134932.16682137537"
            ]
          },
          "execution_count": 212,
          "metadata": {},
          "output_type": "execute_result"
        }
      ],
      "source": [
        "avg_rmse_forest2"
      ]
    },
    {
      "cell_type": "markdown",
      "metadata": {
        "id": "y6nCXvLRrl2U"
      },
      "source": [
        "# Test"
      ]
    },
    {
      "cell_type": "code",
      "execution_count": null,
      "metadata": {
        "id": "UChMl6hRrl2U"
      },
      "outputs": [],
      "source": [
        "test_2020 = pd.read_csv(\"Datathon-Chevron-Challenge/Investment_Data_2020.xlsx - 2020_data.csv\")"
      ]
    },
    {
      "cell_type": "code",
      "execution_count": null,
      "metadata": {
        "id": "soUIWrG0rl2U"
      },
      "outputs": [],
      "source": [
        "test_2020_clean = test_2020.dropna()\n",
        "test_2020_clean = test_2020_clean.drop(columns='StateCode')\n",
        "test_2020_clean=test_2020_clean.iloc[:,1:]"
      ]
    },
    {
      "cell_type": "code",
      "execution_count": null,
      "metadata": {
        "id": "l61ZSZlvrl2V",
        "outputId": "948b3faa-5275-428c-e03d-1f48fb9f5163"
      },
      "outputs": [
        {
          "data": {
            "text/html": [
              "<div>\n",
              "<style scoped>\n",
              "    .dataframe tbody tr th:only-of-type {\n",
              "        vertical-align: middle;\n",
              "    }\n",
              "\n",
              "    .dataframe tbody tr th {\n",
              "        vertical-align: top;\n",
              "    }\n",
              "\n",
              "    .dataframe thead th {\n",
              "        text-align: right;\n",
              "    }\n",
              "</style>\n",
              "<table border=\"1\" class=\"dataframe\">\n",
              "  <thead>\n",
              "    <tr style=\"text-align: right;\">\n",
              "      <th></th>\n",
              "      <th>MSN</th>\n",
              "      <th>Year</th>\n",
              "      <th>Amount</th>\n",
              "      <th>State</th>\n",
              "      <th>CO2 Emissions (Mmt)</th>\n",
              "      <th>TotalNumberofInvestments</th>\n",
              "      <th>TotalAmountofAssistance</th>\n",
              "    </tr>\n",
              "  </thead>\n",
              "  <tbody>\n",
              "    <tr>\n",
              "      <th>0</th>\n",
              "      <td>BDFDB</td>\n",
              "      <td>2020</td>\n",
              "      <td>0.0</td>\n",
              "      <td>Alaska</td>\n",
              "      <td>35.967527</td>\n",
              "      <td>37.0</td>\n",
              "      <td>9567164.0</td>\n",
              "    </tr>\n",
              "    <tr>\n",
              "      <th>1</th>\n",
              "      <td>BDPRP</td>\n",
              "      <td>2020</td>\n",
              "      <td>0.0</td>\n",
              "      <td>Alaska</td>\n",
              "      <td>35.967527</td>\n",
              "      <td>37.0</td>\n",
              "      <td>9567164.0</td>\n",
              "    </tr>\n",
              "    <tr>\n",
              "      <th>2</th>\n",
              "      <td>BFFDB</td>\n",
              "      <td>2020</td>\n",
              "      <td>0.0</td>\n",
              "      <td>Alaska</td>\n",
              "      <td>35.967527</td>\n",
              "      <td>37.0</td>\n",
              "      <td>9567164.0</td>\n",
              "    </tr>\n",
              "    <tr>\n",
              "      <th>3</th>\n",
              "      <td>BFPRP</td>\n",
              "      <td>2020</td>\n",
              "      <td>0.0</td>\n",
              "      <td>Alaska</td>\n",
              "      <td>35.967527</td>\n",
              "      <td>37.0</td>\n",
              "      <td>9567164.0</td>\n",
              "    </tr>\n",
              "    <tr>\n",
              "      <th>4</th>\n",
              "      <td>CLPRB</td>\n",
              "      <td>2020</td>\n",
              "      <td>15523.0</td>\n",
              "      <td>Alaska</td>\n",
              "      <td>35.967527</td>\n",
              "      <td>37.0</td>\n",
              "      <td>9567164.0</td>\n",
              "    </tr>\n",
              "  </tbody>\n",
              "</table>\n",
              "</div>"
            ],
            "text/plain": [
              "     MSN  Year   Amount   State  CO2 Emissions (Mmt)  \\\n",
              "0  BDFDB  2020      0.0  Alaska            35.967527   \n",
              "1  BDPRP  2020      0.0  Alaska            35.967527   \n",
              "2  BFFDB  2020      0.0  Alaska            35.967527   \n",
              "3  BFPRP  2020      0.0  Alaska            35.967527   \n",
              "4  CLPRB  2020  15523.0  Alaska            35.967527   \n",
              "\n",
              "   TotalNumberofInvestments  TotalAmountofAssistance  \n",
              "0                      37.0                9567164.0  \n",
              "1                      37.0                9567164.0  \n",
              "2                      37.0                9567164.0  \n",
              "3                      37.0                9567164.0  \n",
              "4                      37.0                9567164.0  "
            ]
          },
          "execution_count": 41,
          "metadata": {},
          "output_type": "execute_result"
        }
      ],
      "source": [
        "test_2020_clean.head()"
      ]
    },
    {
      "cell_type": "code",
      "execution_count": null,
      "metadata": {
        "id": "xfE-VuGPrl2V"
      },
      "outputs": [],
      "source": [
        "test_encoded = pd.get_dummies(test_2020_clean, columns=['MSN'])\n",
        "for idx in range(6,35):\n",
        "    test_encoded.iloc[:,idx] = np.array(test_encoded.iloc[:,idx]) * np.array(test_encoded['Amount'])"
      ]
    },
    {
      "cell_type": "code",
      "execution_count": null,
      "metadata": {
        "id": "s4xFOqHXrl2W",
        "outputId": "6b29caa2-9a94-42ed-9c71-61cdfb102562"
      },
      "outputs": [
        {
          "data": {
            "text/html": [
              "<div>\n",
              "<style scoped>\n",
              "    .dataframe tbody tr th:only-of-type {\n",
              "        vertical-align: middle;\n",
              "    }\n",
              "\n",
              "    .dataframe tbody tr th {\n",
              "        vertical-align: top;\n",
              "    }\n",
              "\n",
              "    .dataframe thead th {\n",
              "        text-align: right;\n",
              "    }\n",
              "</style>\n",
              "<table border=\"1\" class=\"dataframe\">\n",
              "  <thead>\n",
              "    <tr style=\"text-align: right;\">\n",
              "      <th></th>\n",
              "      <th>Year</th>\n",
              "      <th>Amount</th>\n",
              "      <th>State</th>\n",
              "      <th>CO2 Emissions (Mmt)</th>\n",
              "      <th>TotalNumberofInvestments</th>\n",
              "      <th>TotalAmountofAssistance</th>\n",
              "      <th>MSN_BDFDB</th>\n",
              "      <th>MSN_BDPRP</th>\n",
              "      <th>MSN_BFFDB</th>\n",
              "      <th>MSN_BFPRP</th>\n",
              "      <th>...</th>\n",
              "      <th>MSN_REPRB</th>\n",
              "      <th>MSN_SOTCB</th>\n",
              "      <th>MSN_TEPRB</th>\n",
              "      <th>MSN_TETCB</th>\n",
              "      <th>MSN_WDEXB</th>\n",
              "      <th>MSN_WDPRB</th>\n",
              "      <th>MSN_WDTCB</th>\n",
              "      <th>MSN_WSTCB</th>\n",
              "      <th>MSN_WWPRB</th>\n",
              "      <th>MSN_WYTCB</th>\n",
              "    </tr>\n",
              "  </thead>\n",
              "  <tbody>\n",
              "    <tr>\n",
              "      <th>0</th>\n",
              "      <td>2020</td>\n",
              "      <td>0.0</td>\n",
              "      <td>Alaska</td>\n",
              "      <td>35.967527</td>\n",
              "      <td>37.0</td>\n",
              "      <td>9567164.0</td>\n",
              "      <td>0.0</td>\n",
              "      <td>0.0</td>\n",
              "      <td>0.0</td>\n",
              "      <td>0.0</td>\n",
              "      <td>...</td>\n",
              "      <td>0.0</td>\n",
              "      <td>0.0</td>\n",
              "      <td>0.0</td>\n",
              "      <td>0.0</td>\n",
              "      <td>0.0</td>\n",
              "      <td>0.0</td>\n",
              "      <td>0.0</td>\n",
              "      <td>0.0</td>\n",
              "      <td>0.0</td>\n",
              "      <td>0.0</td>\n",
              "    </tr>\n",
              "    <tr>\n",
              "      <th>1</th>\n",
              "      <td>2020</td>\n",
              "      <td>0.0</td>\n",
              "      <td>Alaska</td>\n",
              "      <td>35.967527</td>\n",
              "      <td>37.0</td>\n",
              "      <td>9567164.0</td>\n",
              "      <td>0.0</td>\n",
              "      <td>0.0</td>\n",
              "      <td>0.0</td>\n",
              "      <td>0.0</td>\n",
              "      <td>...</td>\n",
              "      <td>0.0</td>\n",
              "      <td>0.0</td>\n",
              "      <td>0.0</td>\n",
              "      <td>0.0</td>\n",
              "      <td>0.0</td>\n",
              "      <td>0.0</td>\n",
              "      <td>0.0</td>\n",
              "      <td>0.0</td>\n",
              "      <td>0.0</td>\n",
              "      <td>0.0</td>\n",
              "    </tr>\n",
              "    <tr>\n",
              "      <th>2</th>\n",
              "      <td>2020</td>\n",
              "      <td>0.0</td>\n",
              "      <td>Alaska</td>\n",
              "      <td>35.967527</td>\n",
              "      <td>37.0</td>\n",
              "      <td>9567164.0</td>\n",
              "      <td>0.0</td>\n",
              "      <td>0.0</td>\n",
              "      <td>0.0</td>\n",
              "      <td>0.0</td>\n",
              "      <td>...</td>\n",
              "      <td>0.0</td>\n",
              "      <td>0.0</td>\n",
              "      <td>0.0</td>\n",
              "      <td>0.0</td>\n",
              "      <td>0.0</td>\n",
              "      <td>0.0</td>\n",
              "      <td>0.0</td>\n",
              "      <td>0.0</td>\n",
              "      <td>0.0</td>\n",
              "      <td>0.0</td>\n",
              "    </tr>\n",
              "    <tr>\n",
              "      <th>3</th>\n",
              "      <td>2020</td>\n",
              "      <td>0.0</td>\n",
              "      <td>Alaska</td>\n",
              "      <td>35.967527</td>\n",
              "      <td>37.0</td>\n",
              "      <td>9567164.0</td>\n",
              "      <td>0.0</td>\n",
              "      <td>0.0</td>\n",
              "      <td>0.0</td>\n",
              "      <td>0.0</td>\n",
              "      <td>...</td>\n",
              "      <td>0.0</td>\n",
              "      <td>0.0</td>\n",
              "      <td>0.0</td>\n",
              "      <td>0.0</td>\n",
              "      <td>0.0</td>\n",
              "      <td>0.0</td>\n",
              "      <td>0.0</td>\n",
              "      <td>0.0</td>\n",
              "      <td>0.0</td>\n",
              "      <td>0.0</td>\n",
              "    </tr>\n",
              "    <tr>\n",
              "      <th>4</th>\n",
              "      <td>2020</td>\n",
              "      <td>15523.0</td>\n",
              "      <td>Alaska</td>\n",
              "      <td>35.967527</td>\n",
              "      <td>37.0</td>\n",
              "      <td>9567164.0</td>\n",
              "      <td>0.0</td>\n",
              "      <td>0.0</td>\n",
              "      <td>0.0</td>\n",
              "      <td>0.0</td>\n",
              "      <td>...</td>\n",
              "      <td>0.0</td>\n",
              "      <td>0.0</td>\n",
              "      <td>0.0</td>\n",
              "      <td>0.0</td>\n",
              "      <td>0.0</td>\n",
              "      <td>0.0</td>\n",
              "      <td>0.0</td>\n",
              "      <td>0.0</td>\n",
              "      <td>0.0</td>\n",
              "      <td>0.0</td>\n",
              "    </tr>\n",
              "  </tbody>\n",
              "</table>\n",
              "<p>5 rows × 35 columns</p>\n",
              "</div>"
            ],
            "text/plain": [
              "   Year   Amount   State  CO2 Emissions (Mmt)  TotalNumberofInvestments  \\\n",
              "0  2020      0.0  Alaska            35.967527                      37.0   \n",
              "1  2020      0.0  Alaska            35.967527                      37.0   \n",
              "2  2020      0.0  Alaska            35.967527                      37.0   \n",
              "3  2020      0.0  Alaska            35.967527                      37.0   \n",
              "4  2020  15523.0  Alaska            35.967527                      37.0   \n",
              "\n",
              "   TotalAmountofAssistance  MSN_BDFDB  MSN_BDPRP  MSN_BFFDB  MSN_BFPRP  ...  \\\n",
              "0                9567164.0        0.0        0.0        0.0        0.0  ...   \n",
              "1                9567164.0        0.0        0.0        0.0        0.0  ...   \n",
              "2                9567164.0        0.0        0.0        0.0        0.0  ...   \n",
              "3                9567164.0        0.0        0.0        0.0        0.0  ...   \n",
              "4                9567164.0        0.0        0.0        0.0        0.0  ...   \n",
              "\n",
              "   MSN_REPRB  MSN_SOTCB  MSN_TEPRB  MSN_TETCB  MSN_WDEXB  MSN_WDPRB  \\\n",
              "0        0.0        0.0        0.0        0.0        0.0        0.0   \n",
              "1        0.0        0.0        0.0        0.0        0.0        0.0   \n",
              "2        0.0        0.0        0.0        0.0        0.0        0.0   \n",
              "3        0.0        0.0        0.0        0.0        0.0        0.0   \n",
              "4        0.0        0.0        0.0        0.0        0.0        0.0   \n",
              "\n",
              "   MSN_WDTCB  MSN_WSTCB  MSN_WWPRB  MSN_WYTCB  \n",
              "0        0.0        0.0        0.0        0.0  \n",
              "1        0.0        0.0        0.0        0.0  \n",
              "2        0.0        0.0        0.0        0.0  \n",
              "3        0.0        0.0        0.0        0.0  \n",
              "4        0.0        0.0        0.0        0.0  \n",
              "\n",
              "[5 rows x 35 columns]"
            ]
          },
          "execution_count": 43,
          "metadata": {},
          "output_type": "execute_result"
        }
      ],
      "source": [
        "test_encoded.head()"
      ]
    },
    {
      "cell_type": "code",
      "execution_count": null,
      "metadata": {
        "id": "3NXuCIZlrl2X"
      },
      "outputs": [],
      "source": [
        "test_new1 = test_encoded.drop(columns=\"Amount\")"
      ]
    },
    {
      "cell_type": "code",
      "execution_count": null,
      "metadata": {
        "id": "lA6p26vFrl2Y"
      },
      "outputs": [],
      "source": [
        "test_new5 = pd.get_dummies(test_new1, columns=['State'])\n",
        "test_assi = test_new5['TotalAmountofAssistance']\n",
        "test_new5 = test_new5.drop(['TotalAmountofAssistance'],axis=1)\n",
        "test_new5['TotalAmountofAssistance']=df_assi"
      ]
    },
    {
      "cell_type": "code",
      "execution_count": null,
      "metadata": {
        "id": "TD7JGBlprl2Y"
      },
      "outputs": [],
      "source": [
        "# Make predictions on the test set\n",
        "y_pred = rf.predict(test_new5.iloc[:,:-1])\n",
        "MSE = mean_squared_error(test_new5['TotalAmountofAssistance'], y_pred)\n",
        " \n",
        "RMSE = math.sqrt(MSE) "
      ]
    },
    {
      "cell_type": "code",
      "execution_count": null,
      "metadata": {
        "id": "A5B9QoGHrl2Z",
        "outputId": "aae79de2-edaa-44c4-f713-cbf39a9f6f45"
      },
      "outputs": [
        {
          "data": {
            "text/plain": [
              "51675575.89244933"
            ]
          },
          "execution_count": 195,
          "metadata": {},
          "output_type": "execute_result"
        }
      ],
      "source": [
        "RMSE "
      ]
    },
    {
      "cell_type": "code",
      "execution_count": null,
      "metadata": {
        "id": "NBaVCxaprl2Z",
        "outputId": "0370b34d-15cd-4b84-b327-b1c9abf9e291"
      },
      "outputs": [
        {
          "data": {
            "text/plain": [
              "(1450,)"
            ]
          },
          "execution_count": 197,
          "metadata": {},
          "output_type": "execute_result"
        }
      ],
      "source": [
        "y_pred.shape"
      ]
    },
    {
      "cell_type": "code",
      "execution_count": null,
      "metadata": {
        "id": "q-mteGZLrl2a"
      },
      "outputs": [],
      "source": [
        "output = test_2020_clean[['Year', 'State', 'TotalAmountofAssistance']]"
      ]
    },
    {
      "cell_type": "code",
      "execution_count": null,
      "metadata": {
        "id": "065ukjXArl2a",
        "outputId": "42b566dd-157f-42c5-9332-e85279461a7c"
      },
      "outputs": [
        {
          "data": {
            "text/html": [
              "<div>\n",
              "<style scoped>\n",
              "    .dataframe tbody tr th:only-of-type {\n",
              "        vertical-align: middle;\n",
              "    }\n",
              "\n",
              "    .dataframe tbody tr th {\n",
              "        vertical-align: top;\n",
              "    }\n",
              "\n",
              "    .dataframe thead th {\n",
              "        text-align: right;\n",
              "    }\n",
              "</style>\n",
              "<table border=\"1\" class=\"dataframe\">\n",
              "  <thead>\n",
              "    <tr style=\"text-align: right;\">\n",
              "      <th></th>\n",
              "      <th>Year</th>\n",
              "      <th>State</th>\n",
              "      <th>TotalAmountofAssistance</th>\n",
              "      <th>Prediction</th>\n",
              "    </tr>\n",
              "  </thead>\n",
              "  <tbody>\n",
              "    <tr>\n",
              "      <th>0</th>\n",
              "      <td>2020</td>\n",
              "      <td>Alaska</td>\n",
              "      <td>9567164.0</td>\n",
              "      <td>15985323.5</td>\n",
              "    </tr>\n",
              "    <tr>\n",
              "      <th>1</th>\n",
              "      <td>2020</td>\n",
              "      <td>Alaska</td>\n",
              "      <td>9567164.0</td>\n",
              "      <td>15985323.5</td>\n",
              "    </tr>\n",
              "    <tr>\n",
              "      <th>2</th>\n",
              "      <td>2020</td>\n",
              "      <td>Alaska</td>\n",
              "      <td>9567164.0</td>\n",
              "      <td>15985323.5</td>\n",
              "    </tr>\n",
              "    <tr>\n",
              "      <th>3</th>\n",
              "      <td>2020</td>\n",
              "      <td>Alaska</td>\n",
              "      <td>9567164.0</td>\n",
              "      <td>15985323.5</td>\n",
              "    </tr>\n",
              "    <tr>\n",
              "      <th>4</th>\n",
              "      <td>2020</td>\n",
              "      <td>Alaska</td>\n",
              "      <td>9567164.0</td>\n",
              "      <td>15985323.5</td>\n",
              "    </tr>\n",
              "    <tr>\n",
              "      <th>...</th>\n",
              "      <td>...</td>\n",
              "      <td>...</td>\n",
              "      <td>...</td>\n",
              "      <td>...</td>\n",
              "    </tr>\n",
              "    <tr>\n",
              "      <th>1503</th>\n",
              "      <td>2020</td>\n",
              "      <td>Wyoming</td>\n",
              "      <td>229763.0</td>\n",
              "      <td>543947.5</td>\n",
              "    </tr>\n",
              "    <tr>\n",
              "      <th>1504</th>\n",
              "      <td>2020</td>\n",
              "      <td>Wyoming</td>\n",
              "      <td>229763.0</td>\n",
              "      <td>543947.5</td>\n",
              "    </tr>\n",
              "    <tr>\n",
              "      <th>1505</th>\n",
              "      <td>2020</td>\n",
              "      <td>Wyoming</td>\n",
              "      <td>229763.0</td>\n",
              "      <td>543947.5</td>\n",
              "    </tr>\n",
              "    <tr>\n",
              "      <th>1506</th>\n",
              "      <td>2020</td>\n",
              "      <td>Wyoming</td>\n",
              "      <td>229763.0</td>\n",
              "      <td>543947.5</td>\n",
              "    </tr>\n",
              "    <tr>\n",
              "      <th>1507</th>\n",
              "      <td>2020</td>\n",
              "      <td>Wyoming</td>\n",
              "      <td>229763.0</td>\n",
              "      <td>543947.5</td>\n",
              "    </tr>\n",
              "  </tbody>\n",
              "</table>\n",
              "<p>1450 rows × 4 columns</p>\n",
              "</div>"
            ],
            "text/plain": [
              "      Year    State  TotalAmountofAssistance  Prediction\n",
              "0     2020   Alaska                9567164.0  15985323.5\n",
              "1     2020   Alaska                9567164.0  15985323.5\n",
              "2     2020   Alaska                9567164.0  15985323.5\n",
              "3     2020   Alaska                9567164.0  15985323.5\n",
              "4     2020   Alaska                9567164.0  15985323.5\n",
              "...    ...      ...                      ...         ...\n",
              "1503  2020  Wyoming                 229763.0    543947.5\n",
              "1504  2020  Wyoming                 229763.0    543947.5\n",
              "1505  2020  Wyoming                 229763.0    543947.5\n",
              "1506  2020  Wyoming                 229763.0    543947.5\n",
              "1507  2020  Wyoming                 229763.0    543947.5\n",
              "\n",
              "[1450 rows x 4 columns]"
            ]
          },
          "execution_count": 207,
          "metadata": {},
          "output_type": "execute_result"
        }
      ],
      "source": [
        "output"
      ]
    },
    {
      "cell_type": "code",
      "execution_count": null,
      "metadata": {
        "id": "O5P-TT03rl2a",
        "outputId": "dad23211-326a-455e-e853-41c76c54df44"
      },
      "outputs": [
        {
          "name": "stderr",
          "output_type": "stream",
          "text": [
            "E:\\Users\\wangz\\anaconda3\\lib\\site-packages\\ipykernel_launcher.py:1: SettingWithCopyWarning: \n",
            "A value is trying to be set on a copy of a slice from a DataFrame.\n",
            "Try using .loc[row_indexer,col_indexer] = value instead\n",
            "\n",
            "See the caveats in the documentation: https://pandas.pydata.org/pandas-docs/stable/user_guide/indexing.html#returning-a-view-versus-a-copy\n",
            "  \"\"\"Entry point for launching an IPython kernel.\n"
          ]
        }
      ],
      "source": [
        "output['Prediction'] = y_pred"
      ]
    },
    {
      "cell_type": "code",
      "execution_count": null,
      "metadata": {
        "id": "-oTtxg4Srl2b"
      },
      "outputs": [],
      "source": [
        "output=output.groupby(by=['Year','State']).mean()"
      ]
    },
    {
      "cell_type": "code",
      "execution_count": null,
      "metadata": {
        "id": "b7gXQsPcrl2c"
      },
      "outputs": [],
      "source": [
        "output.to_csv(\"Prediction_2020.csv\")"
      ]
    }
  ],
  "metadata": {
    "kernelspec": {
      "display_name": "Python 3",
      "language": "python",
      "name": "python3"
    },
    "language_info": {
      "codemirror_mode": {
        "name": "ipython",
        "version": 3
      },
      "file_extension": ".py",
      "mimetype": "text/x-python",
      "name": "python",
      "nbconvert_exporter": "python",
      "pygments_lexer": "ipython3",
      "version": "3.7.6"
    },
    "colab": {
      "provenance": []
    }
  },
  "nbformat": 4,
  "nbformat_minor": 0
}